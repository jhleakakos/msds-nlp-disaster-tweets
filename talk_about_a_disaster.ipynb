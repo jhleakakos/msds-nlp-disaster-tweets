{
 "cells": [
  {
   "cell_type": "code",
   "id": "initial_id",
   "metadata": {
    "collapsed": true,
    "ExecuteTime": {
     "end_time": "2024-09-02T00:14:08.401667Z",
     "start_time": "2024-09-02T00:14:08.395439Z"
    }
   },
   "source": [
    "import pandas as pd\n",
    "import numpy as np\n",
    "import matplotlib.pyplot as plt"
   ],
   "outputs": [],
   "execution_count": 86
  },
  {
   "metadata": {},
   "cell_type": "markdown",
   "source": [
    "## Problem Description\n",
    "\n",
    "This project uses deep learning to classify tweets based on if they are about real disasters. This is a Kaggle competition at https://www.kaggle.com/competitions/nlp-getting-started. The focus is on testing out recurrent neural networks (RNNs) to perform this classification.\n",
    "\n",
    "We will utilize natural language processing (NLP), a field of computer science that focuses on how computing technology can work with \"natural language,\" language that occurs naturally with humans. In this scenario, we are looking at a subset of tweets that are written in English and are illustrative of how people communicate in a natural manner with the English language. The \"natural\" aspect speaks to how people actually use the language rather than just focusing on the formal ways in which people are supposed to use the language. The RNNs we will test out require numbers as inputs, so our use of NLP will include converting written text into numeric representation as well as capturing relationships and context within the language. \n",
    "\n",
    "We will need the context abilities of RNNs since the use of disaster-related words on their own may not indicate an actual disaster. For example, someone may tweet \"This is a disaster,\" using the literal word \"disaster\" but referring metaphorically to a situation that is not a disaster that, for instance, a disaster relief group needs to respond to.\n",
    "\n",
    "After building the models, the competition asks us to submit files with target labels for the test set to evaluate and compare with other submissions based on F1 score."
   ],
   "id": "b41bfd10a8ed2693"
  },
  {
   "metadata": {},
   "cell_type": "markdown",
   "source": "## Data Description & Initial Preprocessing",
   "id": "c3f4ac7c457214ec"
  },
  {
   "metadata": {
    "ExecuteTime": {
     "end_time": "2024-09-01T22:43:47.935532Z",
     "start_time": "2024-09-01T22:43:47.888453Z"
    }
   },
   "cell_type": "code",
   "source": [
    "df_train = pd.read_csv('./data/train.csv')\n",
    "df_test = pd.read_csv('./data/test.csv')\n",
    "df_sample_submission = pd.read_csv('./data/sample_submission.csv')\n",
    "df_sample_submission.head()"
   ],
   "id": "23cb71cf90a7b1a7",
   "outputs": [
    {
     "data": {
      "text/plain": [
       "   id  target\n",
       "0   0       0\n",
       "1   2       0\n",
       "2   3       0\n",
       "3   9       0\n",
       "4  11       0"
      ],
      "text/html": [
       "<div>\n",
       "<style scoped>\n",
       "    .dataframe tbody tr th:only-of-type {\n",
       "        vertical-align: middle;\n",
       "    }\n",
       "\n",
       "    .dataframe tbody tr th {\n",
       "        vertical-align: top;\n",
       "    }\n",
       "\n",
       "    .dataframe thead th {\n",
       "        text-align: right;\n",
       "    }\n",
       "</style>\n",
       "<table border=\"1\" class=\"dataframe\">\n",
       "  <thead>\n",
       "    <tr style=\"text-align: right;\">\n",
       "      <th></th>\n",
       "      <th>id</th>\n",
       "      <th>target</th>\n",
       "    </tr>\n",
       "  </thead>\n",
       "  <tbody>\n",
       "    <tr>\n",
       "      <th>0</th>\n",
       "      <td>0</td>\n",
       "      <td>0</td>\n",
       "    </tr>\n",
       "    <tr>\n",
       "      <th>1</th>\n",
       "      <td>2</td>\n",
       "      <td>0</td>\n",
       "    </tr>\n",
       "    <tr>\n",
       "      <th>2</th>\n",
       "      <td>3</td>\n",
       "      <td>0</td>\n",
       "    </tr>\n",
       "    <tr>\n",
       "      <th>3</th>\n",
       "      <td>9</td>\n",
       "      <td>0</td>\n",
       "    </tr>\n",
       "    <tr>\n",
       "      <th>4</th>\n",
       "      <td>11</td>\n",
       "      <td>0</td>\n",
       "    </tr>\n",
       "  </tbody>\n",
       "</table>\n",
       "</div>"
      ]
     },
     "execution_count": 35,
     "metadata": {},
     "output_type": "execute_result"
    }
   ],
   "execution_count": 35
  },
  {
   "metadata": {
    "ExecuteTime": {
     "end_time": "2024-09-01T22:43:48.016931Z",
     "start_time": "2024-09-01T22:43:48.005958Z"
    }
   },
   "cell_type": "code",
   "source": [
    "print(f'The training set has {df_train.shape[0]:,} rows and {df_train.shape[1]} columns')\n",
    "print(f'The test set has {df_test.shape[0]:,} rows and {df_test.shape[1]} columns')\n",
    "df_train.head()"
   ],
   "id": "d0db8e1657c987f8",
   "outputs": [
    {
     "name": "stdout",
     "output_type": "stream",
     "text": [
      "The training set has 7,613 rows and 5 columns\n",
      "The test set has 3,263 rows and 4 columns\n"
     ]
    },
    {
     "data": {
      "text/plain": [
       "   id keyword location                                               text  \\\n",
       "0   1     NaN      NaN  Our Deeds are the Reason of this #earthquake M...   \n",
       "1   4     NaN      NaN             Forest fire near La Ronge Sask. Canada   \n",
       "2   5     NaN      NaN  All residents asked to 'shelter in place' are ...   \n",
       "3   6     NaN      NaN  13,000 people receive #wildfires evacuation or...   \n",
       "4   7     NaN      NaN  Just got sent this photo from Ruby #Alaska as ...   \n",
       "\n",
       "   target  \n",
       "0       1  \n",
       "1       1  \n",
       "2       1  \n",
       "3       1  \n",
       "4       1  "
      ],
      "text/html": [
       "<div>\n",
       "<style scoped>\n",
       "    .dataframe tbody tr th:only-of-type {\n",
       "        vertical-align: middle;\n",
       "    }\n",
       "\n",
       "    .dataframe tbody tr th {\n",
       "        vertical-align: top;\n",
       "    }\n",
       "\n",
       "    .dataframe thead th {\n",
       "        text-align: right;\n",
       "    }\n",
       "</style>\n",
       "<table border=\"1\" class=\"dataframe\">\n",
       "  <thead>\n",
       "    <tr style=\"text-align: right;\">\n",
       "      <th></th>\n",
       "      <th>id</th>\n",
       "      <th>keyword</th>\n",
       "      <th>location</th>\n",
       "      <th>text</th>\n",
       "      <th>target</th>\n",
       "    </tr>\n",
       "  </thead>\n",
       "  <tbody>\n",
       "    <tr>\n",
       "      <th>0</th>\n",
       "      <td>1</td>\n",
       "      <td>NaN</td>\n",
       "      <td>NaN</td>\n",
       "      <td>Our Deeds are the Reason of this #earthquake M...</td>\n",
       "      <td>1</td>\n",
       "    </tr>\n",
       "    <tr>\n",
       "      <th>1</th>\n",
       "      <td>4</td>\n",
       "      <td>NaN</td>\n",
       "      <td>NaN</td>\n",
       "      <td>Forest fire near La Ronge Sask. Canada</td>\n",
       "      <td>1</td>\n",
       "    </tr>\n",
       "    <tr>\n",
       "      <th>2</th>\n",
       "      <td>5</td>\n",
       "      <td>NaN</td>\n",
       "      <td>NaN</td>\n",
       "      <td>All residents asked to 'shelter in place' are ...</td>\n",
       "      <td>1</td>\n",
       "    </tr>\n",
       "    <tr>\n",
       "      <th>3</th>\n",
       "      <td>6</td>\n",
       "      <td>NaN</td>\n",
       "      <td>NaN</td>\n",
       "      <td>13,000 people receive #wildfires evacuation or...</td>\n",
       "      <td>1</td>\n",
       "    </tr>\n",
       "    <tr>\n",
       "      <th>4</th>\n",
       "      <td>7</td>\n",
       "      <td>NaN</td>\n",
       "      <td>NaN</td>\n",
       "      <td>Just got sent this photo from Ruby #Alaska as ...</td>\n",
       "      <td>1</td>\n",
       "    </tr>\n",
       "  </tbody>\n",
       "</table>\n",
       "</div>"
      ]
     },
     "execution_count": 36,
     "metadata": {},
     "output_type": "execute_result"
    }
   ],
   "execution_count": 36
  },
  {
   "metadata": {},
   "cell_type": "markdown",
   "source": [
    "The dataset has three features we will be working with:\n",
    "- id: unique identifier that we will drop\n",
    "- keyword: a keyword from the tweet and can be null\n",
    "- location: location from where the tweet was send and can be null\n",
    "- text: the body of a tweet\n",
    "- target: 1 if the tweet is an actual disaster and 0 if it is not\n",
    "\n",
    "First we check the overall size and shape of the data we are working with. The sample submission file in the end will need one row per `id` and `target` label, so nothing fancy. We also want to see if there are duplicates in the training set. The initial thought is that we will want to remove any rows that are duplicated across all columns except for `id` so that the modeling is not favoring identical rows that show up more than once.\n",
    "\n",
    "Note that the default for the `keep` param for `duplicated()` is first, meaning that the first instance of a duplicated row is flagged as valid and the remaining duplicated rows show up here. We want to keep one of each duplicated row, so the default for `keep` is good."
   ],
   "id": "a10a924b21dc12ed"
  },
  {
   "metadata": {
    "ExecuteTime": {
     "end_time": "2024-09-01T22:43:48.159254Z",
     "start_time": "2024-09-01T22:43:48.112613Z"
    }
   },
   "cell_type": "code",
   "source": [
    "# Check if any rows are duplicated across all features\n",
    "print(f'Train: there are {df_train[df_train.duplicated()].shape[0]} rows duplicated across all features, including the id feature')\n",
    "print(f'Test:  there are {df_test[df_test.duplicated()].shape[0]} rows duplicated across all features, including the id feature')\n",
    "print()\n",
    "\n",
    "# Check if any ids are duplicated\n",
    "print(f'Train: there are {df_train[df_train.duplicated(subset='id')].shape[0]} duplicated ids')\n",
    "print(f'Test:  there are {df_test[df_test.duplicated(subset='id')].shape[0]} duplicated ids')\n",
    "print()\n",
    "\n",
    "# Check if any rows are duplicated just in the text feature\n",
    "print(f'Train: there are {df_train[df_train.duplicated(subset='text')].shape[0]} rows duplicated across the text feature')\n",
    "print(f'Test:  there are {df_test[df_test.duplicated(subset='text')].shape[0]} rows duplicated across the text feature')\n",
    "print()\n",
    "\n",
    "# Check if any rows are duplicated across the keyword, location, and text features. \n",
    "# This is the duplication we are looking to address.\n",
    "print(f'Train: there are '\n",
    "    f'{df_train[df_train.duplicated(\n",
    "        subset=[\n",
    "            'keyword'\n",
    "            , 'location'\n",
    "            , 'text'\n",
    "        ]\n",
    "        # , keep=False # Returns 97 rows in total when this is uncommented\n",
    "    )].shape[0]} '\n",
    "  f'rows duplicated across the keyword, location, text features'\n",
    ")\n",
    "print(f'Test:  there are '\n",
    "    f'{df_test[df_test.duplicated(\n",
    "        subset=[\n",
    "            'keyword'\n",
    "            , 'location'\n",
    "            , 'text'\n",
    "        ]\n",
    "        # , keep=False # Returns 97 rows in total when this is uncommented\n",
    "    )].shape[0]} '\n",
    "      f'rows duplicated across the keyword, location, text features'\n",
    ")\n",
    "print()\n",
    "\n",
    "# Drop rows that are duplicated across the keyword, location, and text features\n",
    "df_train.drop_duplicates(\n",
    "    subset=[\n",
    "        'keyword'\n",
    "        , 'location'\n",
    "        , 'text'\n",
    "    ], inplace=True\n",
    ")\n",
    "df_test.drop_duplicates(\n",
    "    subset=[\n",
    "        'keyword'\n",
    "        , 'location'\n",
    "        , 'text'\n",
    "    ], inplace=True\n",
    ")\n",
    "\n",
    "print(f'Train: we end up with {df_train.shape[0]:,} rows remaining after dropping duplicates')\n",
    "print(f'Test:  we end up with {df_test.shape[0]:,} rows remaining after dropping duplicates')"
   ],
   "id": "e926ae2a7f33e19b",
   "outputs": [
    {
     "name": "stdout",
     "output_type": "stream",
     "text": [
      "Train: there are 0 rows duplicated across all features, including the id feature\n",
      "Test:  there are 0 rows duplicated across all features, including the id feature\n",
      "\n",
      "Train: there are 0 duplicated ids\n",
      "Test:  there are 0 duplicated ids\n",
      "\n",
      "Train: there are 110 rows duplicated across the text feature\n",
      "Test:  there are 20 rows duplicated across the text feature\n",
      "\n",
      "Train: there are 61 rows duplicated across the keyword, location, text features\n",
      "Test:  there are 11 rows duplicated across the keyword, location, text features\n",
      "\n",
      "Train: we end up with 7,552 rows remaining after dropping duplicates\n",
      "Test:  we end up with 3,252 rows remaining after dropping duplicates\n"
     ]
    }
   ],
   "execution_count": 37
  },
  {
   "metadata": {},
   "cell_type": "markdown",
   "source": [
    "We see 61 rows that are duplicated across all features except the primary key \"id\" feature. This is 0.8% out of the 7,613 total rows, so we can drop them without losing too much data.\n",
    "\n",
    "Next we need to clean up bad characters. We see some characters that do not look like they were encoded correctly in the original CSV. To simplify preprocessing at this stage, we are going to drop any rows that have non-ASCII characters. This is too broad of a net to cast for characters to address, but it is an okay starting place. In future iterations, this is something to return to with a more complicated strategy for cleaning up these characters, in particular finding a way to determine if there are valid non-ASCII characters in terms of meaning that we should keep for modeling."
   ],
   "id": "436e96842a865dad"
  },
  {
   "metadata": {
    "ExecuteTime": {
     "end_time": "2024-09-01T22:43:48.271596Z",
     "start_time": "2024-09-01T22:43:48.260548Z"
    }
   },
   "cell_type": "code",
   "source": [
    "# Example row with both bad characters and valid-but-not-ASCII characters.\n",
    "df_train[df_train['id'] == 3373]"
   ],
   "id": "c5f21402776eb5c3",
   "outputs": [
    {
     "data": {
      "text/plain": [
       "        id     keyword location  \\\n",
       "2345  3373  demolition      NaN   \n",
       "\n",
       "                                                   text  target  \n",
       "2345  General News Û¢åÊ'Demolition of houses on wat...       0  "
      ],
      "text/html": [
       "<div>\n",
       "<style scoped>\n",
       "    .dataframe tbody tr th:only-of-type {\n",
       "        vertical-align: middle;\n",
       "    }\n",
       "\n",
       "    .dataframe tbody tr th {\n",
       "        vertical-align: top;\n",
       "    }\n",
       "\n",
       "    .dataframe thead th {\n",
       "        text-align: right;\n",
       "    }\n",
       "</style>\n",
       "<table border=\"1\" class=\"dataframe\">\n",
       "  <thead>\n",
       "    <tr style=\"text-align: right;\">\n",
       "      <th></th>\n",
       "      <th>id</th>\n",
       "      <th>keyword</th>\n",
       "      <th>location</th>\n",
       "      <th>text</th>\n",
       "      <th>target</th>\n",
       "    </tr>\n",
       "  </thead>\n",
       "  <tbody>\n",
       "    <tr>\n",
       "      <th>2345</th>\n",
       "      <td>3373</td>\n",
       "      <td>demolition</td>\n",
       "      <td>NaN</td>\n",
       "      <td>General News Û¢åÊ'Demolition of houses on wat...</td>\n",
       "      <td>0</td>\n",
       "    </tr>\n",
       "  </tbody>\n",
       "</table>\n",
       "</div>"
      ]
     },
     "execution_count": 38,
     "metadata": {},
     "output_type": "execute_result"
    }
   ],
   "execution_count": 38
  },
  {
   "metadata": {
    "ExecuteTime": {
     "end_time": "2024-09-01T22:43:50.576485Z",
     "start_time": "2024-09-01T22:43:50.497753Z"
    }
   },
   "cell_type": "code",
   "source": [
    "# Check for non-ASCII chars in keyword feature -- note that we return 0 for this\n",
    "print(f'Train: rows where keyword feature has non-ASCII characters: {df_train[df_train['keyword'].str.contains(r'[^\\x00-\\x7F]', na=False)].shape[0]}')\n",
    "print(f'Test:  rows where keyword feature has non-ASCII characters: {df_test[df_test['keyword'].str.contains(r'[^\\x00-\\x7F]', na=False)].shape[0]}')\n",
    "print()\n",
    "\n",
    "# Check for non-ASCII chars in location feature\n",
    "print(f'Train: rows where location feature has non-ASCII characters: {df_train[df_train['location'].str.contains(r'[^\\x00-\\x7F]', na=False)].shape[0]}')\n",
    "print(f'Test:  rows where location feature has non-ASCII characters: {df_test[df_test['location'].str.contains(r'[^\\x00-\\x7F]', na=False)].shape[0]}')\n",
    "print()\n",
    "\n",
    "# Check for non-ASCII chars in text feature\n",
    "print(f'Train: rows where text feature has non-ASCII characters: {df_train[df_train['text'].str.contains(r'[^\\x00-\\x7F]')].shape[0]}')\n",
    "print(f'Test:  rows where text feature has non-ASCII characters: {df_test[df_test['text'].str.contains(r'[^\\x00-\\x7F]')].shape[0]}')\n",
    "print()\n",
    "\n",
    "# Check for non-ASCII chars in location or feature\n",
    "print(f'Train: rows where location or text feature has non-ASCII characters: '\n",
    "    f'{df_train[df_train['text'].str.contains(r'[^\\x00-\\x7F]') | df_train['location'].str.contains(r'[^\\x00-\\x7F]', na=False)].shape[0]}'\n",
    ")\n",
    "print(f'Test:  rows where location or text feature has non-ASCII characters: '\n",
    "      f'{df_test[df_test['text'].str.contains(r'[^\\x00-\\x7F]') | df_test['location'].str.contains(r'[^\\x00-\\x7F]', na=False)].shape[0]}'\n",
    ")\n",
    "print()\n",
    "\n",
    "# Drop rows that have non-ASCII characters in location or text features\n",
    "df_train.drop(\n",
    "    df_train[df_train['text'].str.contains(r'[^\\x00-\\x7F]') | df_train['location'].str.contains(r'[^\\x00-\\x7F]')].index\n",
    "    , inplace=True\n",
    ")\n",
    "df_test.drop(\n",
    "    df_test[df_test['text'].str.contains(r'[^\\x00-\\x7F]') | df_test['location'].str.contains(r'[^\\x00-\\x7F]')].index\n",
    "    , inplace=True\n",
    ")\n",
    "\n",
    "print(f'Train: we end up with {df_train.shape[0]:,} rows remaining after dropping rows with non-ASCII characters in location or text feature')\n",
    "print(f'Test:  we end up with {df_test.shape[0]:,} rows remaining after dropping rows with non-ASCII characters in location or text feature')\n",
    "print()\n"
   ],
   "id": "e3662f8a7ce1fbd6",
   "outputs": [
    {
     "name": "stdout",
     "output_type": "stream",
     "text": [
      "Train: rows where keyword feature has non-ASCII characters: 0\n",
      "Test:  rows where keyword feature has non-ASCII characters: 0\n",
      "\n",
      "Train: rows where location feature has non-ASCII characters: 105\n",
      "Test:  rows where location feature has non-ASCII characters: 35\n",
      "\n",
      "Train: rows where text feature has non-ASCII characters: 682\n",
      "Test:  rows where text feature has non-ASCII characters: 328\n",
      "\n",
      "Train: rows where location or text feature has non-ASCII characters: 779\n",
      "Test:  rows where location or text feature has non-ASCII characters: 359\n",
      "\n",
      "Train: we end up with 6,773 rows remaining after dropping rows with non-ASCII characters in location or text feature\n",
      "Test:  we end up with 2,893 rows remaining after dropping rows with non-ASCII characters in location or text feature\n",
      "\n"
     ]
    }
   ],
   "execution_count": 39
  },
  {
   "metadata": {},
   "cell_type": "markdown",
   "source": [
    "The final cleanup step before jumping into EDA and further preprocessing is to handle missing values since the models in a bit do not play nice with nulls.\n",
    "\n",
    "As we see in the next code block, there are 58 rows with null keyword values, and there are 2,278 rows with null locations. 58 is probably small enough for us to drop at this point, but 2,278 is too many to lose. Unfortunately, the missing keywords do not overlap with missing locations.\n",
    "\n",
    "We will drop the rows with NAs for the keyword feature, and we will manually scan through the rows with missing values for the location feature to see if any patterns pop out. If we are able to find an informed strategy, we might be able to leverage something smarter for imputing values."
   ],
   "id": "401178e666114bb8"
  },
  {
   "metadata": {
    "ExecuteTime": {
     "end_time": "2024-09-01T22:46:46.632615Z",
     "start_time": "2024-09-01T22:46:46.613358Z"
    }
   },
   "cell_type": "code",
   "source": [
    "print('train:')\n",
    "print(df_train.isna().sum())\n",
    "print()\n",
    "print('test:')\n",
    "print(df_test.isna().sum())\n",
    "print()\n",
    "df_train.dropna(subset='keyword').isna().sum()\n",
    "df_test.dropna(subset='keyword').isna().sum()\n",
    "\n",
    "df_train.dropna(\n",
    "    subset='keyword'\n",
    "    , inplace=True\n",
    ")\n",
    "df_test.dropna(\n",
    "    subset='keyword'\n",
    "    , inplace=True\n",
    ")"
   ],
   "id": "5d00bb2fc38429b5",
   "outputs": [
    {
     "name": "stdout",
     "output_type": "stream",
     "text": [
      "train:\n",
      "id             0\n",
      "keyword       58\n",
      "location    2278\n",
      "text           0\n",
      "target         0\n",
      "dtype: int64\n",
      "\n",
      "test:\n",
      "id            0\n",
      "keyword      24\n",
      "location    993\n",
      "text          0\n",
      "dtype: int64\n",
      "\n"
     ]
    }
   ],
   "execution_count": 41
  },
  {
   "metadata": {
    "ExecuteTime": {
     "end_time": "2024-09-01T23:42:40.391195Z",
     "start_time": "2024-09-01T23:42:40.340973Z"
    }
   },
   "cell_type": "code",
   "source": "df_train[df_train.isna().any(axis=1)].sample(100)",
   "id": "1344d5b9e6347c31",
   "outputs": [
    {
     "data": {
      "text/plain": [
       "        id                keyword location  \\\n",
       "6414  9172       suicide%20bomber      NaN   \n",
       "4598  6540                 injury      NaN   \n",
       "1073  1549                   bomb      NaN   \n",
       "4349  6175                 hijack      NaN   \n",
       "989   1436         body%20bagging      NaN   \n",
       "...    ...                    ...      ...   \n",
       "2537  3641             desolation      NaN   \n",
       "6467  9251                   sunk      NaN   \n",
       "5542  7907  radiation%20emergency      NaN   \n",
       "1141  1645                bombing      NaN   \n",
       "1396  2015             casualties      NaN   \n",
       "\n",
       "                                                   text  target  \\\n",
       "6414  @Abu_Baraa1 Suicide bomber targets Saudi mosqu...       1   \n",
       "4598  JOBOOZOSO: USAT usatoday_nfl Michael Floyd's h...       0   \n",
       "1073  @smallforestelf Umm because a gun stopped the ...       1   \n",
       "4349  @RickyBonesSXM fuck u2 specially there new Shi...       0   \n",
       "989   @MeekMill is w(rec)k league ball @Drake is Oly...       0   \n",
       "...                                                 ...     ...   \n",
       "2537  #4: The Hobbit: The Desolation of Smaug (Bilin...       0   \n",
       "6467  descended or sunk however it may be to the sha...       0   \n",
       "5542  Who Else Wants Documents Radiation Emergency P...       0   \n",
       "1141  @NBCNews Yea bombing #pearlharbor not so good ...       1   \n",
       "1396  Afghan conflict sees 'sharp rise' in female ca...       1   \n",
       "\n",
       "      is_location_imputed location_imputed  \n",
       "6414                    1             nope  \n",
       "4598                    1             nope  \n",
       "1073                    1             nope  \n",
       "4349                    1             nope  \n",
       "989                     1             nope  \n",
       "...                   ...              ...  \n",
       "2537                    1             nope  \n",
       "6467                    1             nope  \n",
       "5542                    1             nope  \n",
       "1141                    1             nope  \n",
       "1396                    1             nope  \n",
       "\n",
       "[100 rows x 7 columns]"
      ],
      "text/html": [
       "<div>\n",
       "<style scoped>\n",
       "    .dataframe tbody tr th:only-of-type {\n",
       "        vertical-align: middle;\n",
       "    }\n",
       "\n",
       "    .dataframe tbody tr th {\n",
       "        vertical-align: top;\n",
       "    }\n",
       "\n",
       "    .dataframe thead th {\n",
       "        text-align: right;\n",
       "    }\n",
       "</style>\n",
       "<table border=\"1\" class=\"dataframe\">\n",
       "  <thead>\n",
       "    <tr style=\"text-align: right;\">\n",
       "      <th></th>\n",
       "      <th>id</th>\n",
       "      <th>keyword</th>\n",
       "      <th>location</th>\n",
       "      <th>text</th>\n",
       "      <th>target</th>\n",
       "      <th>is_location_imputed</th>\n",
       "      <th>location_imputed</th>\n",
       "    </tr>\n",
       "  </thead>\n",
       "  <tbody>\n",
       "    <tr>\n",
       "      <th>6414</th>\n",
       "      <td>9172</td>\n",
       "      <td>suicide%20bomber</td>\n",
       "      <td>NaN</td>\n",
       "      <td>@Abu_Baraa1 Suicide bomber targets Saudi mosqu...</td>\n",
       "      <td>1</td>\n",
       "      <td>1</td>\n",
       "      <td>nope</td>\n",
       "    </tr>\n",
       "    <tr>\n",
       "      <th>4598</th>\n",
       "      <td>6540</td>\n",
       "      <td>injury</td>\n",
       "      <td>NaN</td>\n",
       "      <td>JOBOOZOSO: USAT usatoday_nfl Michael Floyd's h...</td>\n",
       "      <td>0</td>\n",
       "      <td>1</td>\n",
       "      <td>nope</td>\n",
       "    </tr>\n",
       "    <tr>\n",
       "      <th>1073</th>\n",
       "      <td>1549</td>\n",
       "      <td>bomb</td>\n",
       "      <td>NaN</td>\n",
       "      <td>@smallforestelf Umm because a gun stopped the ...</td>\n",
       "      <td>1</td>\n",
       "      <td>1</td>\n",
       "      <td>nope</td>\n",
       "    </tr>\n",
       "    <tr>\n",
       "      <th>4349</th>\n",
       "      <td>6175</td>\n",
       "      <td>hijack</td>\n",
       "      <td>NaN</td>\n",
       "      <td>@RickyBonesSXM fuck u2 specially there new Shi...</td>\n",
       "      <td>0</td>\n",
       "      <td>1</td>\n",
       "      <td>nope</td>\n",
       "    </tr>\n",
       "    <tr>\n",
       "      <th>989</th>\n",
       "      <td>1436</td>\n",
       "      <td>body%20bagging</td>\n",
       "      <td>NaN</td>\n",
       "      <td>@MeekMill is w(rec)k league ball @Drake is Oly...</td>\n",
       "      <td>0</td>\n",
       "      <td>1</td>\n",
       "      <td>nope</td>\n",
       "    </tr>\n",
       "    <tr>\n",
       "      <th>...</th>\n",
       "      <td>...</td>\n",
       "      <td>...</td>\n",
       "      <td>...</td>\n",
       "      <td>...</td>\n",
       "      <td>...</td>\n",
       "      <td>...</td>\n",
       "      <td>...</td>\n",
       "    </tr>\n",
       "    <tr>\n",
       "      <th>2537</th>\n",
       "      <td>3641</td>\n",
       "      <td>desolation</td>\n",
       "      <td>NaN</td>\n",
       "      <td>#4: The Hobbit: The Desolation of Smaug (Bilin...</td>\n",
       "      <td>0</td>\n",
       "      <td>1</td>\n",
       "      <td>nope</td>\n",
       "    </tr>\n",
       "    <tr>\n",
       "      <th>6467</th>\n",
       "      <td>9251</td>\n",
       "      <td>sunk</td>\n",
       "      <td>NaN</td>\n",
       "      <td>descended or sunk however it may be to the sha...</td>\n",
       "      <td>0</td>\n",
       "      <td>1</td>\n",
       "      <td>nope</td>\n",
       "    </tr>\n",
       "    <tr>\n",
       "      <th>5542</th>\n",
       "      <td>7907</td>\n",
       "      <td>radiation%20emergency</td>\n",
       "      <td>NaN</td>\n",
       "      <td>Who Else Wants Documents Radiation Emergency P...</td>\n",
       "      <td>0</td>\n",
       "      <td>1</td>\n",
       "      <td>nope</td>\n",
       "    </tr>\n",
       "    <tr>\n",
       "      <th>1141</th>\n",
       "      <td>1645</td>\n",
       "      <td>bombing</td>\n",
       "      <td>NaN</td>\n",
       "      <td>@NBCNews Yea bombing #pearlharbor not so good ...</td>\n",
       "      <td>1</td>\n",
       "      <td>1</td>\n",
       "      <td>nope</td>\n",
       "    </tr>\n",
       "    <tr>\n",
       "      <th>1396</th>\n",
       "      <td>2015</td>\n",
       "      <td>casualties</td>\n",
       "      <td>NaN</td>\n",
       "      <td>Afghan conflict sees 'sharp rise' in female ca...</td>\n",
       "      <td>1</td>\n",
       "      <td>1</td>\n",
       "      <td>nope</td>\n",
       "    </tr>\n",
       "  </tbody>\n",
       "</table>\n",
       "<p>100 rows × 7 columns</p>\n",
       "</div>"
      ]
     },
     "execution_count": 43,
     "metadata": {},
     "output_type": "execute_result"
    }
   ],
   "execution_count": 43
  },
  {
   "metadata": {},
   "cell_type": "markdown",
   "source": "Unfortunately, there does not appear to be a pattern in how locations are missing. I want to keep location in the modeling, so we will impute \"nope\" for rows that are missing location. We will also add a boolean flag indicating if we imputed location so the model can have that as an extra input.",
   "id": "e7804c5de52e584d"
  },
  {
   "metadata": {
    "ExecuteTime": {
     "end_time": "2024-09-01T22:47:33.940830Z",
     "start_time": "2024-09-01T22:47:33.933187Z"
    }
   },
   "cell_type": "code",
   "source": [
    "# Note that this cell is not idempotent\n",
    "df_train['is_location_imputed'] = df_train['location'].isna().astype(int)\n",
    "df_train['location_imputed'] = df_train['location'].fillna('nope')\n",
    "\n",
    "df_test['is_location_imputed'] = df_test['location'].isna().astype(int)\n",
    "df_test['location_imputed'] = df_test['location'].fillna('nope')"
   ],
   "id": "9b961a8a95c9e2e5",
   "outputs": [],
   "execution_count": 42
  },
  {
   "metadata": {},
   "cell_type": "markdown",
   "source": [
    "### Exploratory Data Analysis (EDA)\n",
    "\n",
    "We will start EDA by looking at what we are working with in the keyword and location features. The next code block shows that we have the same keywords in the train and test sets. The locations are a bit of a mess. We will look at those in a minute."
   ],
   "id": "772ff46cd0e7c0f9"
  },
  {
   "metadata": {},
   "cell_type": "code",
   "outputs": [],
   "execution_count": null,
   "source": [
    "def train_test_diffs(s1, s2):\n",
    "    diff1 = set(s1).difference(set(s2))\n",
    "    diff2 = set(s2).difference(set(s1))\n",
    "\n",
    "    return diff1, diff2\n"
   ],
   "id": "53903ee18c3a6d1f"
  },
  {
   "metadata": {
    "ExecuteTime": {
     "end_time": "2024-09-01T23:49:57.416228Z",
     "start_time": "2024-09-01T23:49:57.406522Z"
    }
   },
   "cell_type": "code",
   "source": [
    "\n",
    "    \n",
    "    \n",
    "print(f'Train: number of unique keywords: {df_train['keyword'].nunique(dropna=False)}')\n",
    "print(f'Test: number of unique keywords: {df_test['keyword'].nunique(dropna=False)}')\n",
    "print(f'Keywords in one dataset and not the other for (train, test): {train_test_diffs(df_train['keyword'], df_test['keyword'])}')"
   ],
   "id": "f999432af7238767",
   "outputs": [
    {
     "name": "stdout",
     "output_type": "stream",
     "text": [
      "Train: number of unique keywords: 221\n",
      "Test: number of unique keywords: 221\n",
      "Keywords in one dataset and not the other for (train, test): (set(), set())\n",
      "\n",
      "Train: number of unique locations: 3034\n",
      "Test: number of unique locations: 1444\n"
     ]
    }
   ],
   "execution_count": 48
  },
  {
   "metadata": {
    "ExecuteTime": {
     "end_time": "2024-09-01T23:58:21.512661Z",
     "start_time": "2024-09-01T23:58:21.501048Z"
    }
   },
   "cell_type": "code",
   "source": "df_train['keyword'].value_counts()",
   "id": "c9278c0a4513c7a7",
   "outputs": [
    {
     "data": {
      "text/plain": [
       "keyword\n",
       "windstorm                39\n",
       "deluge                   39\n",
       "harm                     39\n",
       "damage                   39\n",
       "wrecked                  38\n",
       "                         ..\n",
       "tragedy                  18\n",
       "epicentre                12\n",
       "inundation                9\n",
       "threat                    7\n",
       "radiation%20emergency     7\n",
       "Name: count, Length: 221, dtype: int64"
      ]
     },
     "execution_count": 65,
     "metadata": {},
     "output_type": "execute_result"
    }
   ],
   "execution_count": 65
  },
  {
   "metadata": {
    "ExecuteTime": {
     "end_time": "2024-09-02T00:07:22.944924Z",
     "start_time": "2024-09-02T00:07:22.928113Z"
    }
   },
   "cell_type": "code",
   "source": [
    "# Note that this is not idempotent\n",
    "print(f'Train: number of rows with URI percent encoding other than %20: {df_train[df_train['keyword'].str.contains('%') & ~df_train['keyword'].str.contains('%20')].shape[0]}')\n",
    "print(f'Test: number of rows with URI percent encoding other than %20: {df_test[df_test['keyword'].str.contains('%') & ~df_test['keyword'].str.contains('%20')].shape[0]}')\n",
    "\n",
    "df_train['keyword_clean'] = df_train['keyword'].str.replace('%20', ' ')\n",
    "df_test['keyword_clean'] = df_test['keyword'].str.replace('%20', ' ')"
   ],
   "id": "d5c6acbadc8d7957",
   "outputs": [
    {
     "name": "stdout",
     "output_type": "stream",
     "text": [
      "Train: number of rows with URI percent encoding other than %20: 0\n",
      "Test: number of rows with URI percent encoding other than %20: 0\n"
     ]
    }
   ],
   "execution_count": 68
  },
  {
   "metadata": {
    "ExecuteTime": {
     "end_time": "2024-09-02T00:26:14.734970Z",
     "start_time": "2024-09-02T00:26:13.228587Z"
    }
   },
   "cell_type": "code",
   "source": [
    "fig, axes = plt.subplots(\n",
    "    nrows=1\n",
    "    , ncols=2\n",
    "    , figsize=(15, 5)\n",
    ")\n",
    "\n",
    "df_train['keyword_clean'].value_counts().head(20).plot(\n",
    "    kind='bar'\n",
    "    , ax=axes[0]\n",
    "    , rot=45\n",
    ");\n",
    "axes[0].set_title('Top 10 Most Popular Keywords in Train Set')\n",
    "axes[0].set_xlabel(None)\n",
    "\n",
    "\n",
    "df_test['keyword_clean'].value_counts().head(20).plot(\n",
    "    kind='bar'\n",
    "    , ax=axes[1]\n",
    "    , rot=45\n",
    ");\n",
    "axes[1].set_title('Top 10 Most Popular Keywords in Test Set')\n",
    "# Manually set y-axis limits for second plot for relative comparison\n",
    "axes[1].set_ylim([0, 40])\n",
    "axes[1].set_xlabel(None)\n",
    "\n",
    "plt.tight_layout()"
   ],
   "id": "8cf687d5d7aad5a0",
   "outputs": [
    {
     "data": {
      "text/plain": [
       "<Figure size 1500x500 with 2 Axes>"
      ],
      "image/png": "[encoded data removed]"
     },
     "metadata": {},
     "output_type": "display_data"
    }
   ],
   "execution_count": 101
  },
  {
   "metadata": {},
   "cell_type": "markdown",
   "source": [
    "The only thing that stands out with the keywords is that they still have uniform resource identifier (URI) percent encoding for spaces as %20s. That is an easy find-and-replace.\n",
    "\n",
    "We then check out the 10 most common keywords in the train and test sets, mostly looking to see if the same keywords show up in each. Interestingly, they do not overlap. I was expecting them to. This could be chance, or it could be that we have a curated test set where the common values purposely do not match. Either way, this will not change our approach to modeling later.\n",
    "\n",
    "Next, we will figure out what to do with the location feature."
   ],
   "id": "98da18dcef974b27"
  },
  {
   "metadata": {
    "ExecuteTime": {
     "end_time": "2024-09-02T01:49:30.233732Z",
     "start_time": "2024-09-02T01:49:30.173210Z"
    }
   },
   "cell_type": "code",
   "source": [
    "print(f'Train: number of unique locations: {df_train['location'].nunique(dropna=False):,}')\n",
    "print(f'Test: number of unique locations: {df_test['location'].nunique(dropna=False):,}')\n",
    "print()\n",
    "\n",
    "in_train_not_test, in_test_not_train = train_test_diffs(df_train['location'], df_test['location'])\n",
    "print(f'Number of unique locations in train but not test: {len(in_train_not_test):,}')\n",
    "print(f'Number of unique locations in test but not train: {len(in_test_not_train):,}')\n",
    "\n",
    "# Just for kicks\n",
    "df_train['location'].value_counts().sample(100, random_state=8675309)\n",
    "# df_test['location'].value_counts().sample(100, random_state=8675309)"
   ],
   "id": "77f3bdb4822937d9",
   "outputs": [
    {
     "name": "stdout",
     "output_type": "stream",
     "text": [
      "Train: number of unique locations: 3,034\n",
      "Test: number of unique locations: 1,444\n",
      "\n",
      "Number of unique locations in train but not test: 2,653\n",
      "Number of unique locations in test but not train: 1,063\n"
     ]
    },
    {
     "data": {
      "text/plain": [
       "location\n",
       "Garrett                           1\n",
       "Torry Alvarez love forever ? ?    1\n",
       "Knoxville, TN                     1\n",
       "Fakefams                          1\n",
       "Multinational *****               1\n",
       "                                 ..\n",
       "Bandar Lampung, Indonesia         1\n",
       "Colorado/WorldWide                1\n",
       "Vermont, USA                      1\n",
       "DFW, Texas                        1\n",
       "mind ya business                  1\n",
       "Name: count, Length: 100, dtype: int64"
      ]
     },
     "execution_count": 112,
     "metadata": {},
     "output_type": "execute_result"
    }
   ],
   "execution_count": 112
  },
  {
   "metadata": {},
   "cell_type": "markdown",
   "source": [
    "This feature is all over the place. There are about 2,500 locations in the train set that are not in the test set, and there are about 1,063 in reverse. The sample of 100 locations from the training set have some valid locations, some that need a bit of interpretation or judgment to parse out, and some that are useless. The main issue is that I do not see a way to programmatically clean these up, and, since there are thousands that we would need to go through by hand, manual clean up is not the most important use of time for this iteration. We will leave the location feature out of modeling for this iteration of the project, though this is an area to return to in future iterations to try and capture more info.\n",
    "\n",
    "Next we check out the text feature."
   ],
   "id": "ae11fa0ed9647677"
  },
  {
   "metadata": {
    "ExecuteTime": {
     "end_time": "2024-09-01T16:06:45.936282Z",
     "start_time": "2024-09-01T15:20:04.852577Z"
    }
   },
   "cell_type": "code",
   "source": [
    "tweet_num_chars_train = df_train['text'].str.len()\n",
    "tweet_num_words_test = df_train['text'].str.split().str.len()\n",
    "print('Character counts:')\n",
    "print(tweet_num_chars_train.describe())\n",
    "print()\n",
    "print('Word counts:')\n",
    "print(tweet_num_words_test.describe())"
   ],
   "id": "ef8ea6a019a7faa1",
   "outputs": [
    {
     "name": "stdout",
     "output_type": "stream",
     "text": [
      "Character counts:\n",
      "count    7613.000000\n",
      "mean      101.037436\n",
      "std        33.781325\n",
      "min         7.000000\n",
      "25%        78.000000\n",
      "50%       107.000000\n",
      "75%       133.000000\n",
      "max       157.000000\n",
      "Name: text, dtype: float64\n",
      "\n",
      "Word counts:\n",
      "count    7613.000000\n",
      "mean       14.903586\n",
      "std         5.732604\n",
      "min         1.000000\n",
      "25%        11.000000\n",
      "50%        15.000000\n",
      "75%        19.000000\n",
      "max        31.000000\n",
      "Name: text, dtype: float64\n"
     ]
    }
   ],
   "execution_count": 50
  },
  {
   "metadata": {},
   "cell_type": "code",
   "outputs": [],
   "execution_count": null,
   "source": "",
   "id": "4866b90b9532900e"
  }
 ],
 "metadata": {
  "kernelspec": {
   "display_name": "Python 3",
   "language": "python",
   "name": "python3"
  },
  "language_info": {
   "codemirror_mode": {
    "name": "ipython",
    "version": 2
   },
   "file_extension": ".py",
   "mimetype": "text/x-python",
   "name": "python",
   "nbconvert_exporter": "python",
   "pygments_lexer": "ipython2",
   "version": "2.7.6"
  }
 },
 "nbformat": 4,
 "nbformat_minor": 5
}
