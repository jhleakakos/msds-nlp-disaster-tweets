{
 "cells": [
  {
   "cell_type": "code",
   "id": "initial_id",
   "metadata": {
    "collapsed": true,
    "ExecuteTime": {
     "end_time": "2024-09-02T18:56:18.326881Z",
     "start_time": "2024-09-02T18:56:18.323416Z"
    }
   },
   "source": [
    "import pandas as pd\n",
    "import numpy as np\n",
    "import matplotlib.pyplot as plt\n",
    "\n",
    "from sklearn.model_selection import train_test_split\n",
    "\n",
    "import tensorflow as tf\n",
    "from tensorflow.keras import layers, models"
   ],
   "outputs": [],
   "execution_count": 25
  },
  {
   "metadata": {},
   "cell_type": "markdown",
   "source": [
    "## Problem Description\n",
    "\n",
    "This project uses deep learning to classify tweets based on if they are about real disasters. This is a Kaggle competition at https://www.kaggle.com/competitions/nlp-getting-started. The focus is on testing out recurrent neural networks (RNNs) to perform this classification.\n",
    "\n",
    "We will utilize natural language processing (NLP), a field of computer science that focuses on how computing technology can work with \"natural language,\" language that occurs naturally with humans. In this scenario, we are looking at a subset of tweets that are written in English and are illustrative of how people communicate in a natural manner with the English language. The \"natural\" aspect speaks to how people actually use the language rather than just focusing on the formal ways in which people are supposed to use the language. The RNNs we will test out require numbers as inputs, so our use of NLP will include converting written text into numeric representation as well as capturing relationships and context within the language. \n",
    "\n",
    "We will need the context abilities of RNNs since the use of disaster-related words on their own may not indicate an actual disaster. For example, someone may tweet \"This is a disaster,\" using the literal word \"disaster\" but referring metaphorically to a situation that is not a disaster that, for instance, a disaster relief group needs to respond to.\n",
    "\n",
    "After building the models, the competition asks us to submit files with target labels for the test set to evaluate and compare with other submissions based on F1 score."
   ],
   "id": "b41bfd10a8ed2693"
  },
  {
   "metadata": {},
   "cell_type": "markdown",
   "source": "## Data Description & Initial Preprocessing",
   "id": "c3f4ac7c457214ec"
  },
  {
   "metadata": {
    "ExecuteTime": {
     "end_time": "2024-09-02T18:51:46.880147Z",
     "start_time": "2024-09-02T18:51:46.818113Z"
    }
   },
   "cell_type": "code",
   "source": [
    "in_dir = '/kaggle/input/histopathologic-cancer-detection'\n",
    "out_dir = '/kaggle/working'\n",
    "\n",
    "df_train = pd.read_csv('./data/train.csv')\n",
    "df_test = pd.read_csv('./data/test.csv')\n",
    "\n",
    "# df_train = pd.read_csv(f'{in_dir}/train.csv')\n",
    "# df_test = pd.read_csv(f'{in_dir}/test.csv')\n",
    "\n",
    "df_sample_submission = pd.read_csv('./data/sample_submission.csv')\n",
    "df_sample_submission.head()"
   ],
   "id": "23cb71cf90a7b1a7",
   "outputs": [
    {
     "data": {
      "text/plain": [
       "   id  target\n",
       "0   0       0\n",
       "1   2       0\n",
       "2   3       0\n",
       "3   9       0\n",
       "4  11       0"
      ],
      "text/html": [
       "<div>\n",
       "<style scoped>\n",
       "    .dataframe tbody tr th:only-of-type {\n",
       "        vertical-align: middle;\n",
       "    }\n",
       "\n",
       "    .dataframe tbody tr th {\n",
       "        vertical-align: top;\n",
       "    }\n",
       "\n",
       "    .dataframe thead th {\n",
       "        text-align: right;\n",
       "    }\n",
       "</style>\n",
       "<table border=\"1\" class=\"dataframe\">\n",
       "  <thead>\n",
       "    <tr style=\"text-align: right;\">\n",
       "      <th></th>\n",
       "      <th>id</th>\n",
       "      <th>target</th>\n",
       "    </tr>\n",
       "  </thead>\n",
       "  <tbody>\n",
       "    <tr>\n",
       "      <th>0</th>\n",
       "      <td>0</td>\n",
       "      <td>0</td>\n",
       "    </tr>\n",
       "    <tr>\n",
       "      <th>1</th>\n",
       "      <td>2</td>\n",
       "      <td>0</td>\n",
       "    </tr>\n",
       "    <tr>\n",
       "      <th>2</th>\n",
       "      <td>3</td>\n",
       "      <td>0</td>\n",
       "    </tr>\n",
       "    <tr>\n",
       "      <th>3</th>\n",
       "      <td>9</td>\n",
       "      <td>0</td>\n",
       "    </tr>\n",
       "    <tr>\n",
       "      <th>4</th>\n",
       "      <td>11</td>\n",
       "      <td>0</td>\n",
       "    </tr>\n",
       "  </tbody>\n",
       "</table>\n",
       "</div>"
      ]
     },
     "execution_count": 2,
     "metadata": {},
     "output_type": "execute_result"
    }
   ],
   "execution_count": 2
  },
  {
   "metadata": {
    "ExecuteTime": {
     "end_time": "2024-09-02T18:51:47.138965Z",
     "start_time": "2024-09-02T18:51:47.125492Z"
    }
   },
   "cell_type": "code",
   "source": [
    "print(f'The training set has {df_train.shape[0]:,} rows and {df_train.shape[1]} columns')\n",
    "print(f'The test set has {df_test.shape[0]:,} rows and {df_test.shape[1]} columns')\n",
    "df_train.head()"
   ],
   "id": "d0db8e1657c987f8",
   "outputs": [
    {
     "name": "stdout",
     "output_type": "stream",
     "text": [
      "The training set has 7,613 rows and 5 columns\n",
      "The test set has 3,263 rows and 4 columns\n"
     ]
    },
    {
     "data": {
      "text/plain": [
       "   id keyword location                                               text  \\\n",
       "0   1     NaN      NaN  Our Deeds are the Reason of this #earthquake M...   \n",
       "1   4     NaN      NaN             Forest fire near La Ronge Sask. Canada   \n",
       "2   5     NaN      NaN  All residents asked to 'shelter in place' are ...   \n",
       "3   6     NaN      NaN  13,000 people receive #wildfires evacuation or...   \n",
       "4   7     NaN      NaN  Just got sent this photo from Ruby #Alaska as ...   \n",
       "\n",
       "   target  \n",
       "0       1  \n",
       "1       1  \n",
       "2       1  \n",
       "3       1  \n",
       "4       1  "
      ],
      "text/html": [
       "<div>\n",
       "<style scoped>\n",
       "    .dataframe tbody tr th:only-of-type {\n",
       "        vertical-align: middle;\n",
       "    }\n",
       "\n",
       "    .dataframe tbody tr th {\n",
       "        vertical-align: top;\n",
       "    }\n",
       "\n",
       "    .dataframe thead th {\n",
       "        text-align: right;\n",
       "    }\n",
       "</style>\n",
       "<table border=\"1\" class=\"dataframe\">\n",
       "  <thead>\n",
       "    <tr style=\"text-align: right;\">\n",
       "      <th></th>\n",
       "      <th>id</th>\n",
       "      <th>keyword</th>\n",
       "      <th>location</th>\n",
       "      <th>text</th>\n",
       "      <th>target</th>\n",
       "    </tr>\n",
       "  </thead>\n",
       "  <tbody>\n",
       "    <tr>\n",
       "      <th>0</th>\n",
       "      <td>1</td>\n",
       "      <td>NaN</td>\n",
       "      <td>NaN</td>\n",
       "      <td>Our Deeds are the Reason of this #earthquake M...</td>\n",
       "      <td>1</td>\n",
       "    </tr>\n",
       "    <tr>\n",
       "      <th>1</th>\n",
       "      <td>4</td>\n",
       "      <td>NaN</td>\n",
       "      <td>NaN</td>\n",
       "      <td>Forest fire near La Ronge Sask. Canada</td>\n",
       "      <td>1</td>\n",
       "    </tr>\n",
       "    <tr>\n",
       "      <th>2</th>\n",
       "      <td>5</td>\n",
       "      <td>NaN</td>\n",
       "      <td>NaN</td>\n",
       "      <td>All residents asked to 'shelter in place' are ...</td>\n",
       "      <td>1</td>\n",
       "    </tr>\n",
       "    <tr>\n",
       "      <th>3</th>\n",
       "      <td>6</td>\n",
       "      <td>NaN</td>\n",
       "      <td>NaN</td>\n",
       "      <td>13,000 people receive #wildfires evacuation or...</td>\n",
       "      <td>1</td>\n",
       "    </tr>\n",
       "    <tr>\n",
       "      <th>4</th>\n",
       "      <td>7</td>\n",
       "      <td>NaN</td>\n",
       "      <td>NaN</td>\n",
       "      <td>Just got sent this photo from Ruby #Alaska as ...</td>\n",
       "      <td>1</td>\n",
       "    </tr>\n",
       "  </tbody>\n",
       "</table>\n",
       "</div>"
      ]
     },
     "execution_count": 3,
     "metadata": {},
     "output_type": "execute_result"
    }
   ],
   "execution_count": 3
  },
  {
   "metadata": {},
   "cell_type": "markdown",
   "source": [
    "The dataset has three features we will be working with:\n",
    "- id: unique identifier that we will drop\n",
    "- keyword: a keyword from the tweet and can be null\n",
    "- location: location from where the tweet was send and can be null\n",
    "- text: the body of a tweet\n",
    "- target: 1 if the tweet is an actual disaster and 0 if it is not\n",
    "\n",
    "First we check the overall size and shape of the data we are working with. The sample submission file in the end will need one row per `id` and `target` label, so nothing fancy. We also want to see if there are duplicates in the training set. The initial thought is that we will want to remove any rows that are duplicated across all columns except for `id` so that the modeling is not favoring identical rows that show up more than once.\n",
    "\n",
    "Note that the default for the `keep` param for `duplicated()` is first, meaning that the first instance of a duplicated row is flagged as valid and the remaining duplicated rows show up here. We want to keep one of each duplicated row, so the default for `keep` is good."
   ],
   "id": "a10a924b21dc12ed"
  },
  {
   "metadata": {
    "ExecuteTime": {
     "end_time": "2024-09-02T19:38:46.322687Z",
     "start_time": "2024-09-02T19:38:46.234499Z"
    }
   },
   "cell_type": "code",
   "source": [
    "# Check if any rows are duplicated across all features\n",
    "print(f'Train: there are {df_train[df_train.duplicated()].shape[0]} rows duplicated across all features, including the id feature')\n",
    "print(f'Test:  there are {df_test[df_test.duplicated()].shape[0]} rows duplicated across all features, including the id feature')\n",
    "print()\n",
    "\n",
    "# Check if any ids are duplicated\n",
    "print(f'Train: there are {df_train[df_train.duplicated(subset='id')].shape[0]} duplicated ids')\n",
    "print(f'Test:  there are {df_test[df_test.duplicated(subset='id')].shape[0]} duplicated ids')\n",
    "print()\n",
    "\n",
    "# Check if any rows are duplicated just in the text feature\n",
    "print(f'Train: there are {df_train[df_train.duplicated(subset='text')].shape[0]} rows duplicated across the text feature')\n",
    "print(f'Test:  there are {df_test[df_test.duplicated(subset='text')].shape[0]} rows duplicated across the text feature')\n",
    "print()\n",
    "\n",
    "# Check if any rows are duplicated across the keyword, location, and text features. \n",
    "# This is the duplication we are looking to address.\n",
    "print(f'Train: there are '\n",
    "    f'{df_train[df_train.duplicated(\n",
    "        subset=[\n",
    "            'keyword'\n",
    "            , 'location'\n",
    "            , 'text'\n",
    "        ]\n",
    "        # , keep=False # Returns 97 rows in total when this is uncommented\n",
    "    )].shape[0]} '\n",
    "  f'rows duplicated across the keyword, location, text features'\n",
    ")\n",
    "print(f'Test:  there are '\n",
    "    f'{df_test[df_test.duplicated(\n",
    "        subset=[\n",
    "            'keyword'\n",
    "            , 'location'\n",
    "            , 'text'\n",
    "        ]\n",
    "        # , keep=False # Returns 97 rows in total when this is uncommented\n",
    "    )].shape[0]} '\n",
    "      f'rows duplicated across the keyword, location, text features'\n",
    ")\n",
    "print()\n",
    "\n",
    "# Drop rows that are duplicated across the keyword, location, and text features\n",
    "df_train.drop_duplicates(\n",
    "    subset=[\n",
    "        'keyword'\n",
    "        , 'location'\n",
    "        , 'text'\n",
    "    ], inplace=True\n",
    ")\n",
    "df_test.drop_duplicates(\n",
    "    subset=[\n",
    "        'keyword'\n",
    "        , 'location'\n",
    "        , 'text'\n",
    "    ], inplace=True\n",
    ")\n",
    "\n",
    "print(f'Train: we end up with {df_train.shape[0]:,} rows remaining after dropping duplicates')\n",
    "print(f'Test:  we end up with {df_test.shape[0]:,} rows remaining after dropping duplicates')"
   ],
   "id": "e926ae2a7f33e19b",
   "outputs": [
    {
     "name": "stdout",
     "output_type": "stream",
     "text": [
      "Train: there are 0 rows duplicated across all features, including the id feature\n",
      "Test:  there are 0 rows duplicated across all features, including the id feature\n",
      "\n",
      "Train: there are 0 duplicated ids\n",
      "Test:  there are 0 duplicated ids\n",
      "\n",
      "Train: there are 39 rows duplicated across the text feature\n",
      "Test:  there are 8 rows duplicated across the text feature\n",
      "\n",
      "Train: there are 0 rows duplicated across the keyword, location, text features\n",
      "Test:  there are 0 rows duplicated across the keyword, location, text features\n",
      "\n",
      "Train: we end up with 6,715 rows remaining after dropping duplicates\n",
      "Test:  we end up with 2,869 rows remaining after dropping duplicates\n"
     ]
    }
   ],
   "execution_count": 35
  },
  {
   "metadata": {},
   "cell_type": "markdown",
   "source": [
    "We see 61 rows that are duplicated across all features except the primary key \"id\" feature. This is 0.8% out of the 7,613 total rows, so we can drop them without losing too much data.\n",
    "\n",
    "Next we need to clean up bad characters. We see some characters that do not look like they were encoded correctly in the original CSV. To simplify preprocessing at this stage, we are going to drop any rows that have non-ASCII characters. This is too broad of a net to cast for characters to address, but it is an okay starting place. In future iterations, this is something to return to with a more complicated strategy for cleaning up these characters, in particular finding a way to determine if there are valid non-ASCII characters in terms of meaning that we should keep for modeling."
   ],
   "id": "436e96842a865dad"
  },
  {
   "metadata": {
    "ExecuteTime": {
     "end_time": "2024-09-02T18:51:47.643672Z",
     "start_time": "2024-09-02T18:51:47.634435Z"
    }
   },
   "cell_type": "code",
   "source": [
    "# Example row with both bad characters and valid-but-not-ASCII characters.\n",
    "df_train[df_train['id'] == 3373]"
   ],
   "id": "c5f21402776eb5c3",
   "outputs": [
    {
     "data": {
      "text/plain": [
       "        id     keyword location  \\\n",
       "2345  3373  demolition      NaN   \n",
       "\n",
       "                                                   text  target  \n",
       "2345  General News Û¢åÊ'Demolition of houses on wat...       0  "
      ],
      "text/html": [
       "<div>\n",
       "<style scoped>\n",
       "    .dataframe tbody tr th:only-of-type {\n",
       "        vertical-align: middle;\n",
       "    }\n",
       "\n",
       "    .dataframe tbody tr th {\n",
       "        vertical-align: top;\n",
       "    }\n",
       "\n",
       "    .dataframe thead th {\n",
       "        text-align: right;\n",
       "    }\n",
       "</style>\n",
       "<table border=\"1\" class=\"dataframe\">\n",
       "  <thead>\n",
       "    <tr style=\"text-align: right;\">\n",
       "      <th></th>\n",
       "      <th>id</th>\n",
       "      <th>keyword</th>\n",
       "      <th>location</th>\n",
       "      <th>text</th>\n",
       "      <th>target</th>\n",
       "    </tr>\n",
       "  </thead>\n",
       "  <tbody>\n",
       "    <tr>\n",
       "      <th>2345</th>\n",
       "      <td>3373</td>\n",
       "      <td>demolition</td>\n",
       "      <td>NaN</td>\n",
       "      <td>General News Û¢åÊ'Demolition of houses on wat...</td>\n",
       "      <td>0</td>\n",
       "    </tr>\n",
       "  </tbody>\n",
       "</table>\n",
       "</div>"
      ]
     },
     "execution_count": 5,
     "metadata": {},
     "output_type": "execute_result"
    }
   ],
   "execution_count": 5
  },
  {
   "metadata": {
    "ExecuteTime": {
     "end_time": "2024-09-02T18:51:47.990983Z",
     "start_time": "2024-09-02T18:51:47.912015Z"
    }
   },
   "cell_type": "code",
   "source": [
    "# Check for non-ASCII chars in keyword feature -- note that we return 0 for this\n",
    "print(f'Train: rows where keyword feature has non-ASCII characters: {df_train[df_train['keyword'].str.contains(r'[^\\x00-\\x7F]', na=False)].shape[0]}')\n",
    "print(f'Test:  rows where keyword feature has non-ASCII characters: {df_test[df_test['keyword'].str.contains(r'[^\\x00-\\x7F]', na=False)].shape[0]}')\n",
    "print()\n",
    "\n",
    "# Check for non-ASCII chars in location feature\n",
    "print(f'Train: rows where location feature has non-ASCII characters: {df_train[df_train['location'].str.contains(r'[^\\x00-\\x7F]', na=False)].shape[0]}')\n",
    "print(f'Test:  rows where location feature has non-ASCII characters: {df_test[df_test['location'].str.contains(r'[^\\x00-\\x7F]', na=False)].shape[0]}')\n",
    "print()\n",
    "\n",
    "# Check for non-ASCII chars in text feature\n",
    "print(f'Train: rows where text feature has non-ASCII characters: {df_train[df_train['text'].str.contains(r'[^\\x00-\\x7F]')].shape[0]}')\n",
    "print(f'Test:  rows where text feature has non-ASCII characters: {df_test[df_test['text'].str.contains(r'[^\\x00-\\x7F]')].shape[0]}')\n",
    "print()\n",
    "\n",
    "# Check for non-ASCII chars in location or feature\n",
    "print(f'Train: rows where location or text feature has non-ASCII characters: '\n",
    "    f'{df_train[df_train['text'].str.contains(r'[^\\x00-\\x7F]') | df_train['location'].str.contains(r'[^\\x00-\\x7F]', na=False)].shape[0]}'\n",
    ")\n",
    "print(f'Test:  rows where location or text feature has non-ASCII characters: '\n",
    "      f'{df_test[df_test['text'].str.contains(r'[^\\x00-\\x7F]') | df_test['location'].str.contains(r'[^\\x00-\\x7F]', na=False)].shape[0]}'\n",
    ")\n",
    "print()\n",
    "\n",
    "# Drop rows that have non-ASCII characters in location or text features\n",
    "df_train.drop(\n",
    "    df_train[df_train['text'].str.contains(r'[^\\x00-\\x7F]') | df_train['location'].str.contains(r'[^\\x00-\\x7F]')].index\n",
    "    , inplace=True\n",
    ")\n",
    "df_test.drop(\n",
    "    df_test[df_test['text'].str.contains(r'[^\\x00-\\x7F]') | df_test['location'].str.contains(r'[^\\x00-\\x7F]')].index\n",
    "    , inplace=True\n",
    ")\n",
    "\n",
    "print(f'Train: we end up with {df_train.shape[0]:,} rows remaining after dropping rows with non-ASCII characters in location or text feature')\n",
    "print(f'Test:  we end up with {df_test.shape[0]:,} rows remaining after dropping rows with non-ASCII characters in location or text feature')\n",
    "print()"
   ],
   "id": "e3662f8a7ce1fbd6",
   "outputs": [
    {
     "name": "stdout",
     "output_type": "stream",
     "text": [
      "Train: rows where keyword feature has non-ASCII characters: 0\n",
      "Test:  rows where keyword feature has non-ASCII characters: 0\n",
      "\n",
      "Train: rows where location feature has non-ASCII characters: 105\n",
      "Test:  rows where location feature has non-ASCII characters: 35\n",
      "\n",
      "Train: rows where text feature has non-ASCII characters: 682\n",
      "Test:  rows where text feature has non-ASCII characters: 328\n",
      "\n",
      "Train: rows where location or text feature has non-ASCII characters: 779\n",
      "Test:  rows where location or text feature has non-ASCII characters: 359\n",
      "\n",
      "Train: we end up with 6,773 rows remaining after dropping rows with non-ASCII characters in location or text feature\n",
      "Test:  we end up with 2,893 rows remaining after dropping rows with non-ASCII characters in location or text feature\n",
      "\n"
     ]
    }
   ],
   "execution_count": 6
  },
  {
   "metadata": {},
   "cell_type": "markdown",
   "source": [
    "The final cleanup step before jumping into EDA and further preprocessing is to handle missing values since the models in a bit do not play nice with nulls.\n",
    "\n",
    "As we see in the next code block, there are 58 rows with null keyword values, and there are 2,278 rows with null locations. 58 is probably small enough for us to drop at this point, but 2,278 is too many to lose. Unfortunately, the missing keywords do not overlap with missing locations.\n",
    "\n",
    "We will drop the rows with NAs for the keyword feature, and we will manually scan through the rows with missing values for the location feature to see if any patterns pop out. If we are able to find an informed strategy, we might be able to leverage something smarter for imputing values."
   ],
   "id": "401178e666114bb8"
  },
  {
   "metadata": {
    "ExecuteTime": {
     "end_time": "2024-09-02T18:51:48.253636Z",
     "start_time": "2024-09-02T18:51:48.234236Z"
    }
   },
   "cell_type": "code",
   "source": [
    "print('train:')\n",
    "print(df_train.isna().sum())\n",
    "print()\n",
    "print('test:')\n",
    "print(df_test.isna().sum())\n",
    "print()\n",
    "df_train.dropna(subset='keyword').isna().sum()\n",
    "df_test.dropna(subset='keyword').isna().sum()\n",
    "\n",
    "df_train.dropna(\n",
    "    subset='keyword'\n",
    "    , inplace=True\n",
    ")\n",
    "df_test.dropna(\n",
    "    subset='keyword'\n",
    "    , inplace=True\n",
    ")"
   ],
   "id": "5d00bb2fc38429b5",
   "outputs": [
    {
     "name": "stdout",
     "output_type": "stream",
     "text": [
      "train:\n",
      "id             0\n",
      "keyword       58\n",
      "location    2278\n",
      "text           0\n",
      "target         0\n",
      "dtype: int64\n",
      "\n",
      "test:\n",
      "id            0\n",
      "keyword      24\n",
      "location    993\n",
      "text          0\n",
      "dtype: int64\n",
      "\n"
     ]
    }
   ],
   "execution_count": 7
  },
  {
   "metadata": {
    "ExecuteTime": {
     "end_time": "2024-09-02T18:51:48.518781Z",
     "start_time": "2024-09-02T18:51:48.502328Z"
    }
   },
   "cell_type": "code",
   "source": "df_train[df_train.isna().any(axis=1)].sample(100)",
   "id": "1344d5b9e6347c31",
   "outputs": [
    {
     "data": {
      "text/plain": [
       "         id               keyword location  \\\n",
       "6147   8768                 siren      NaN   \n",
       "1394   2012            casualties      NaN   \n",
       "7028  10073               typhoon      NaN   \n",
       "1430   2063              casualty      NaN   \n",
       "1193   1719     bridge%20collapse      NaN   \n",
       "...     ...                   ...      ...   \n",
       "6334   9055  structural%20failure      NaN   \n",
       "7058  10112              upheaval      NaN   \n",
       "1433   2068              casualty      NaN   \n",
       "7315  10470          wild%20fires      NaN   \n",
       "1783   2559                 crash      NaN   \n",
       "\n",
       "                                                   text  target  \n",
       "6147  I added a video to a @YouTube playlist http://...       0  \n",
       "1394  Another movie theater attack..close to home th...       1  \n",
       "7028  Obama Declares Disaster for Typhoon-Devastated...       1  \n",
       "1430  Property/casualty insurance rates up 1% in Jul...       1  \n",
       "1193  A Marshall Plan for the United States by Dambi...       0  \n",
       "...                                                 ...     ...  \n",
       "6334  @SirTitan45  Mega mood swing on a 24 hr schedu...       0  \n",
       "7058          R'lyeh by Upheaval http://t.co/829n4HJHOL       0  \n",
       "1433  Another sad ocean casualty-Gray whale populati...       1  \n",
       "7315  @aria_ahrary @TheTawniest The out of control w...       1  \n",
       "1783  'A slamming door and a lesson learned... I let...       0  \n",
       "\n",
       "[100 rows x 5 columns]"
      ],
      "text/html": [
       "<div>\n",
       "<style scoped>\n",
       "    .dataframe tbody tr th:only-of-type {\n",
       "        vertical-align: middle;\n",
       "    }\n",
       "\n",
       "    .dataframe tbody tr th {\n",
       "        vertical-align: top;\n",
       "    }\n",
       "\n",
       "    .dataframe thead th {\n",
       "        text-align: right;\n",
       "    }\n",
       "</style>\n",
       "<table border=\"1\" class=\"dataframe\">\n",
       "  <thead>\n",
       "    <tr style=\"text-align: right;\">\n",
       "      <th></th>\n",
       "      <th>id</th>\n",
       "      <th>keyword</th>\n",
       "      <th>location</th>\n",
       "      <th>text</th>\n",
       "      <th>target</th>\n",
       "    </tr>\n",
       "  </thead>\n",
       "  <tbody>\n",
       "    <tr>\n",
       "      <th>6147</th>\n",
       "      <td>8768</td>\n",
       "      <td>siren</td>\n",
       "      <td>NaN</td>\n",
       "      <td>I added a video to a @YouTube playlist http://...</td>\n",
       "      <td>0</td>\n",
       "    </tr>\n",
       "    <tr>\n",
       "      <th>1394</th>\n",
       "      <td>2012</td>\n",
       "      <td>casualties</td>\n",
       "      <td>NaN</td>\n",
       "      <td>Another movie theater attack..close to home th...</td>\n",
       "      <td>1</td>\n",
       "    </tr>\n",
       "    <tr>\n",
       "      <th>7028</th>\n",
       "      <td>10073</td>\n",
       "      <td>typhoon</td>\n",
       "      <td>NaN</td>\n",
       "      <td>Obama Declares Disaster for Typhoon-Devastated...</td>\n",
       "      <td>1</td>\n",
       "    </tr>\n",
       "    <tr>\n",
       "      <th>1430</th>\n",
       "      <td>2063</td>\n",
       "      <td>casualty</td>\n",
       "      <td>NaN</td>\n",
       "      <td>Property/casualty insurance rates up 1% in Jul...</td>\n",
       "      <td>1</td>\n",
       "    </tr>\n",
       "    <tr>\n",
       "      <th>1193</th>\n",
       "      <td>1719</td>\n",
       "      <td>bridge%20collapse</td>\n",
       "      <td>NaN</td>\n",
       "      <td>A Marshall Plan for the United States by Dambi...</td>\n",
       "      <td>0</td>\n",
       "    </tr>\n",
       "    <tr>\n",
       "      <th>...</th>\n",
       "      <td>...</td>\n",
       "      <td>...</td>\n",
       "      <td>...</td>\n",
       "      <td>...</td>\n",
       "      <td>...</td>\n",
       "    </tr>\n",
       "    <tr>\n",
       "      <th>6334</th>\n",
       "      <td>9055</td>\n",
       "      <td>structural%20failure</td>\n",
       "      <td>NaN</td>\n",
       "      <td>@SirTitan45  Mega mood swing on a 24 hr schedu...</td>\n",
       "      <td>0</td>\n",
       "    </tr>\n",
       "    <tr>\n",
       "      <th>7058</th>\n",
       "      <td>10112</td>\n",
       "      <td>upheaval</td>\n",
       "      <td>NaN</td>\n",
       "      <td>R'lyeh by Upheaval http://t.co/829n4HJHOL</td>\n",
       "      <td>0</td>\n",
       "    </tr>\n",
       "    <tr>\n",
       "      <th>1433</th>\n",
       "      <td>2068</td>\n",
       "      <td>casualty</td>\n",
       "      <td>NaN</td>\n",
       "      <td>Another sad ocean casualty-Gray whale populati...</td>\n",
       "      <td>1</td>\n",
       "    </tr>\n",
       "    <tr>\n",
       "      <th>7315</th>\n",
       "      <td>10470</td>\n",
       "      <td>wild%20fires</td>\n",
       "      <td>NaN</td>\n",
       "      <td>@aria_ahrary @TheTawniest The out of control w...</td>\n",
       "      <td>1</td>\n",
       "    </tr>\n",
       "    <tr>\n",
       "      <th>1783</th>\n",
       "      <td>2559</td>\n",
       "      <td>crash</td>\n",
       "      <td>NaN</td>\n",
       "      <td>'A slamming door and a lesson learned... I let...</td>\n",
       "      <td>0</td>\n",
       "    </tr>\n",
       "  </tbody>\n",
       "</table>\n",
       "<p>100 rows × 5 columns</p>\n",
       "</div>"
      ]
     },
     "execution_count": 8,
     "metadata": {},
     "output_type": "execute_result"
    }
   ],
   "execution_count": 8
  },
  {
   "metadata": {},
   "cell_type": "markdown",
   "source": "Unfortunately, there does not appear to be a pattern in how locations are missing. I want to keep location in the modeling, so we will impute \"nope\" for rows that are missing location. We will also add a boolean flag indicating if we imputed location so the model can have that as an extra input.",
   "id": "e7804c5de52e584d"
  },
  {
   "metadata": {
    "ExecuteTime": {
     "end_time": "2024-09-02T18:51:48.709438Z",
     "start_time": "2024-09-02T18:51:48.698902Z"
    }
   },
   "cell_type": "code",
   "source": [
    "# Note that this cell is not idempotent\n",
    "df_train['is_location_imputed'] = df_train['location'].isna().astype(int)\n",
    "df_train['location_imputed'] = df_train['location'].fillna('nope')\n",
    "\n",
    "df_test['is_location_imputed'] = df_test['location'].isna().astype(int)\n",
    "df_test['location_imputed'] = df_test['location'].fillna('nope')"
   ],
   "id": "9b961a8a95c9e2e5",
   "outputs": [],
   "execution_count": 9
  },
  {
   "metadata": {},
   "cell_type": "markdown",
   "source": [
    "### Exploratory Data Analysis (EDA)\n",
    "\n",
    "We will start EDA by looking at what we are working with in the keyword and location features. The next code block shows that we have the same keywords in the train and test sets. The locations are a bit of a mess. We will look at those in a minute."
   ],
   "id": "772ff46cd0e7c0f9"
  },
  {
   "metadata": {
    "ExecuteTime": {
     "end_time": "2024-09-02T18:51:48.814522Z",
     "start_time": "2024-09-02T18:51:48.809794Z"
    }
   },
   "cell_type": "code",
   "source": [
    "def train_test_diffs(s1, s2):\n",
    "    diff1 = set(s1).difference(set(s2))\n",
    "    diff2 = set(s2).difference(set(s1))\n",
    "\n",
    "    return diff1, diff2"
   ],
   "id": "53903ee18c3a6d1f",
   "outputs": [],
   "execution_count": 10
  },
  {
   "metadata": {
    "ExecuteTime": {
     "end_time": "2024-09-02T18:51:49.042231Z",
     "start_time": "2024-09-02T18:51:49.030833Z"
    }
   },
   "cell_type": "code",
   "source": [
    "print(f'Train: number of unique keywords: {df_train['keyword'].nunique(dropna=False)}')\n",
    "print(f'Test: number of unique keywords: {df_test['keyword'].nunique(dropna=False)}')\n",
    "print(f'Keywords in one dataset and not the other for (train, test): {train_test_diffs(df_train['keyword'], df_test['keyword'])}')"
   ],
   "id": "f999432af7238767",
   "outputs": [
    {
     "name": "stdout",
     "output_type": "stream",
     "text": [
      "Train: number of unique keywords: 221\n",
      "Test: number of unique keywords: 221\n",
      "Keywords in one dataset and not the other for (train, test): (set(), set())\n"
     ]
    }
   ],
   "execution_count": 11
  },
  {
   "metadata": {
    "ExecuteTime": {
     "end_time": "2024-09-02T18:51:49.168885Z",
     "start_time": "2024-09-02T18:51:49.159550Z"
    }
   },
   "cell_type": "code",
   "source": "df_train['keyword'].value_counts()",
   "id": "c9278c0a4513c7a7",
   "outputs": [
    {
     "data": {
      "text/plain": [
       "keyword\n",
       "windstorm                39\n",
       "deluge                   39\n",
       "harm                     39\n",
       "damage                   39\n",
       "wrecked                  38\n",
       "                         ..\n",
       "tragedy                  18\n",
       "epicentre                12\n",
       "inundation                9\n",
       "threat                    7\n",
       "radiation%20emergency     7\n",
       "Name: count, Length: 221, dtype: int64"
      ]
     },
     "execution_count": 12,
     "metadata": {},
     "output_type": "execute_result"
    }
   ],
   "execution_count": 12
  },
  {
   "metadata": {
    "ExecuteTime": {
     "end_time": "2024-09-02T18:51:49.319736Z",
     "start_time": "2024-09-02T18:51:49.301221Z"
    }
   },
   "cell_type": "code",
   "source": [
    "# Note that this is not idempotent\n",
    "print(f'Train: number of rows with URI percent encoding other than %20: {df_train[df_train['keyword'].str.contains('%') & ~df_train['keyword'].str.contains('%20')].shape[0]}')\n",
    "print(f'Test: number of rows with URI percent encoding other than %20: {df_test[df_test['keyword'].str.contains('%') & ~df_test['keyword'].str.contains('%20')].shape[0]}')\n",
    "\n",
    "df_train['keyword_clean'] = df_train['keyword'].str.replace('%20', ' ')\n",
    "df_test['keyword_clean'] = df_test['keyword'].str.replace('%20', ' ')"
   ],
   "id": "d5c6acbadc8d7957",
   "outputs": [
    {
     "name": "stdout",
     "output_type": "stream",
     "text": [
      "Train: number of rows with URI percent encoding other than %20: 0\n",
      "Test: number of rows with URI percent encoding other than %20: 0\n"
     ]
    }
   ],
   "execution_count": 13
  },
  {
   "metadata": {
    "ExecuteTime": {
     "end_time": "2024-09-02T18:51:50.503011Z",
     "start_time": "2024-09-02T18:51:49.467446Z"
    }
   },
   "cell_type": "code",
   "source": [
    "fig, axes = plt.subplots(\n",
    "    nrows=1\n",
    "    , ncols=2\n",
    "    , figsize=(15, 5)\n",
    ")\n",
    "\n",
    "df_train['keyword_clean'].value_counts().head(20).plot(\n",
    "    kind='bar'\n",
    "    , ax=axes[0]\n",
    "    , rot=45\n",
    ");\n",
    "axes[0].set_title('Top 10 Most Popular Keywords in Train Set')\n",
    "axes[0].set_xlabel(None)\n",
    "\n",
    "\n",
    "df_test['keyword_clean'].value_counts().head(20).plot(\n",
    "    kind='bar'\n",
    "    , ax=axes[1]\n",
    "    , rot=45\n",
    ");\n",
    "axes[1].set_title('Top 10 Most Popular Keywords in Test Set')\n",
    "# Manually set y-axis limits for second plot for relative comparison\n",
    "axes[1].set_ylim([0, 40])\n",
    "axes[1].set_xlabel(None)\n",
    "\n",
    "plt.tight_layout()"
   ],
   "id": "8cf687d5d7aad5a0",
   "outputs": [
    {
     "data": {
      "text/plain": [
       "<Figure size 1500x500 with 2 Axes>"
      ],
      "image/png": "[encoded data removed]"
     },
     "metadata": {},
     "output_type": "display_data"
    }
   ],
   "execution_count": 14
  },
  {
   "metadata": {},
   "cell_type": "markdown",
   "source": [
    "The only thing that stands out with the keywords is that they still have uniform resource identifier (URI) percent encoding for spaces as %20s. That is an easy find-and-replace.\n",
    "\n",
    "We then check out the 10 most common keywords in the train and test sets, mostly looking to see if the same keywords show up in each. Interestingly, they do not overlap. I was expecting them to. This could be chance, or it could be that we have a curated test set where the common values purposely do not match. Either way, this will not change our approach to modeling later.\n",
    "\n",
    "Next, we will figure out what to do with the location feature."
   ],
   "id": "98da18dcef974b27"
  },
  {
   "metadata": {
    "ExecuteTime": {
     "end_time": "2024-09-02T18:51:50.560821Z",
     "start_time": "2024-09-02T18:51:50.541191Z"
    }
   },
   "cell_type": "code",
   "source": [
    "print(f'Train: number of unique locations: {df_train['location'].nunique(dropna=False):,}')\n",
    "print(f'Test: number of unique locations: {df_test['location'].nunique(dropna=False):,}')\n",
    "print()\n",
    "\n",
    "in_train_not_test, in_test_not_train = train_test_diffs(df_train['location'], df_test['location'])\n",
    "print(f'Number of unique locations in train but not test: {len(in_train_not_test):,}')\n",
    "print(f'Number of unique locations in test but not train: {len(in_test_not_train):,}')\n",
    "\n",
    "# Just for kicks\n",
    "df_train['location'].value_counts().sample(100, random_state=8675309)\n",
    "# df_test['location'].value_counts().sample(100, random_state=8675309)"
   ],
   "id": "77f3bdb4822937d9",
   "outputs": [
    {
     "name": "stdout",
     "output_type": "stream",
     "text": [
      "Train: number of unique locations: 3,034\n",
      "Test: number of unique locations: 1,444\n",
      "\n",
      "Number of unique locations in train but not test: 2,653\n",
      "Number of unique locations in test but not train: 1,063\n"
     ]
    },
    {
     "data": {
      "text/plain": [
       "location\n",
       "Garrett                           1\n",
       "Torry Alvarez love forever ? ?    1\n",
       "Knoxville, TN                     1\n",
       "Fakefams                          1\n",
       "Multinational *****               1\n",
       "                                 ..\n",
       "Bandar Lampung, Indonesia         1\n",
       "Colorado/WorldWide                1\n",
       "Vermont, USA                      1\n",
       "DFW, Texas                        1\n",
       "mind ya business                  1\n",
       "Name: count, Length: 100, dtype: int64"
      ]
     },
     "execution_count": 15,
     "metadata": {},
     "output_type": "execute_result"
    }
   ],
   "execution_count": 15
  },
  {
   "metadata": {},
   "cell_type": "markdown",
   "source": [
    "This feature is all over the place. There are about 2,500 locations in the train set that are not in the test set, and there are about 1,063 in reverse. The sample of 100 locations from the training set have some valid locations, some that need a bit of interpretation or judgment to parse out, and some that are useless. The main issue is that I do not see a way to programmatically clean these up, and, since there are thousands that we would need to go through by hand, manual clean up is not the most important use of time for this iteration. We will leave the location feature out of modeling for this iteration of the project, though this is an area to return to in future iterations to try and capture more info.\n",
    "\n",
    "Next we check out the text feature."
   ],
   "id": "ae11fa0ed9647677"
  },
  {
   "metadata": {
    "ExecuteTime": {
     "end_time": "2024-09-02T18:51:50.822971Z",
     "start_time": "2024-09-02T18:51:50.768688Z"
    }
   },
   "cell_type": "code",
   "source": [
    "tweet_num_chars_train = df_train['text'].str.len()\n",
    "tweet_num_chars_test = df_test['text'].str.len()\n",
    "tweet_num_words_train = df_train['text'].str.split().str.len()\n",
    "tweet_num_words_test = df_test['text'].str.split().str.len()\n",
    "print('Train character counts:')\n",
    "print(tweet_num_chars_train.describe())\n",
    "print()\n",
    "print('Test character counts:')\n",
    "print(tweet_num_chars_test.describe())\n",
    "print()\n",
    "print('Train word counts:')\n",
    "print(tweet_num_words_train.describe())\n",
    "print()\n",
    "print('Test word counts:')\n",
    "print(tweet_num_words_test.describe())"
   ],
   "id": "ef8ea6a019a7faa1",
   "outputs": [
    {
     "name": "stdout",
     "output_type": "stream",
     "text": [
      "Train character counts:\n",
      "count    6715.000000\n",
      "mean       98.962174\n",
      "std        33.712306\n",
      "min         7.000000\n",
      "25%        75.000000\n",
      "50%       104.000000\n",
      "75%       131.000000\n",
      "max       157.000000\n",
      "Name: text, dtype: float64\n",
      "\n",
      "Test character counts:\n",
      "count    2869.000000\n",
      "mean       99.883932\n",
      "std        33.730050\n",
      "min         5.000000\n",
      "25%        76.000000\n",
      "50%       106.000000\n",
      "75%       132.000000\n",
      "max       151.000000\n",
      "Name: text, dtype: float64\n",
      "\n",
      "Train word counts:\n",
      "count    6715.000000\n",
      "mean       14.742219\n",
      "std         5.804618\n",
      "min         1.000000\n",
      "25%        10.000000\n",
      "50%        15.000000\n",
      "75%        19.000000\n",
      "max        31.000000\n",
      "Name: text, dtype: float64\n",
      "\n",
      "Test word counts:\n",
      "count    2869.000000\n",
      "mean       14.776577\n",
      "std         5.824843\n",
      "min         1.000000\n",
      "25%        10.000000\n",
      "50%        15.000000\n",
      "75%        19.000000\n",
      "max        31.000000\n",
      "Name: text, dtype: float64\n"
     ]
    }
   ],
   "execution_count": 16
  },
  {
   "metadata": {},
   "cell_type": "markdown",
   "source": [
    "A quick statistical summary shows that the means, medians, and such between train and test are pretty close. One worry was if one of the datasets had noticeably different numbers of characters or words in the text feature, but we seem okay on that count.\n",
    "\n",
    "Next, we will check out some distributions for the length of tweets."
   ],
   "id": "444b07df9ba450b2"
  },
  {
   "metadata": {
    "ExecuteTime": {
     "end_time": "2024-09-02T18:51:51.935427Z",
     "start_time": "2024-09-02T18:51:50.952949Z"
    }
   },
   "cell_type": "code",
   "source": [
    "fig, axes = plt.subplots(\n",
    "    nrows=1\n",
    "    , ncols=2\n",
    "    , figsize=(15, 5)\n",
    ")\n",
    "\n",
    "tweet_num_chars_train.plot(\n",
    "    kind='hist'\n",
    "    , ax=axes[0]\n",
    "    , bins=15\n",
    ");\n",
    "axes[0].set_title('Number of Characters in Train Tweets')\n",
    "\n",
    "tweet_num_chars_test.plot(\n",
    "    kind='hist'\n",
    "    , ax=axes[1]\n",
    "    , bins=15\n",
    ");\n",
    "axes[1].set_title('Number of Characters in Test Tweets')\n",
    "fig.suptitle('Histograms of Number of Tweet Characters\\n(note different y-axis scales)', fontsize=16)\n",
    "plt.tight_layout()"
   ],
   "id": "4866b90b9532900e",
   "outputs": [
    {
     "data": {
      "text/plain": [
       "<Figure size 1500x500 with 2 Axes>"
      ],
      "image/png": "[encoded data removed]"
     },
     "metadata": {},
     "output_type": "display_data"
    }
   ],
   "execution_count": 17
  },
  {
   "metadata": {
    "ExecuteTime": {
     "end_time": "2024-09-02T18:51:52.706856Z",
     "start_time": "2024-09-02T18:51:51.981302Z"
    }
   },
   "cell_type": "code",
   "source": [
    "fig, axes = plt.subplots(\n",
    "    nrows=1\n",
    "    , ncols=2\n",
    "    , figsize=(15, 5)\n",
    ")\n",
    "\n",
    "tweet_num_words_train.plot(\n",
    "    kind='hist'\n",
    "    , ax=axes[0]\n",
    "    , bins=15\n",
    ");\n",
    "axes[0].set_title('Number of Words in Train Tweets')\n",
    "\n",
    "tweet_num_words_test.plot(\n",
    "    kind='hist'\n",
    "    , ax=axes[1]\n",
    "    , bins=15\n",
    ");\n",
    "axes[1].set_title('Number of Words in Test Tweets')\n",
    "\n",
    "fig.suptitle('Histograms of Number of Tweet Words\\n(note different y-axis scales)', fontsize=16)\n",
    "plt.tight_layout()"
   ],
   "id": "f20c825e74472d9f",
   "outputs": [
    {
     "data": {
      "text/plain": [
       "<Figure size 1500x500 with 2 Axes>"
      ],
      "image/png": "[encoded data removed]"
     },
     "metadata": {},
     "output_type": "display_data"
    }
   ],
   "execution_count": 18
  },
  {
   "metadata": {},
   "cell_type": "markdown",
   "source": [
    "The top pair of histograms shows character counts, and the bottom pair shows word counts. Similar to the stats just above, the distributions between train and test look similar, so we do not need to account for dissimilar distributions.\n",
    "\n",
    "Similar to what we saw with locations, the quality of tweet text is pretty variable. Some are even hard to understand when manually skimming through them. It is not yet clear what, if any, extra preprocessing we may need to apply to the text feature. For instance, depending on the needs of modeling, we may want to clean up special characters, remove hyperlinks, try to identify quotes based on patterns of blocks of text between double quotes with what looks like one to three words after for names, etc. We also would need to try and identify outliers. There are so many variations though that this also may not be the best use of time in this iteration.\n",
    " \n",
    "My preference is to do some modeling with the text feature as is. We can always return to cleaning this feature up if we run into problems with modeling or in future iterations as extra testing on how to continue improving modeling performance. But, for now, we will leave the remaining cleanup of the text feature for a later time.\n",
    "\n",
    "Finally, we will take a look at the target feature, primarily looking for class balance."
   ],
   "id": "d0fc49ed78226782"
  },
  {
   "metadata": {
    "ExecuteTime": {
     "end_time": "2024-09-02T18:51:52.954560Z",
     "start_time": "2024-09-02T18:51:52.770780Z"
    }
   },
   "cell_type": "code",
   "source": [
    "label_counts = df_train.groupby('target').count().iloc[:,0]\n",
    "zeros = label_counts[0]\n",
    "ones = label_counts[1]\n",
    "\n",
    "print(f'Percentage of 0 labels: {zeros/(zeros+ones):.3f}')\n",
    "print(f'Percentage of 1 labels: {ones/(zeros+ones):.3f}')\n",
    "print()\n",
    "\n",
    "ax = label_counts.plot(\n",
    "    kind='bar'\n",
    "    , rot=0\n",
    "    , legend=False\n",
    "    , color='orange'\n",
    "    , title='Target Label Counts'\n",
    ");\n",
    "\n",
    "ax.bar_label(\n",
    "    ax.containers[0]\n",
    "    , fmt='{:,.0f}'\n",
    "    , padding=1\n",
    ");\n",
    "\n",
    "# matplotlib throws a warning if you do not set the axis label values before then \n",
    "# reformatting the labels, so this line addresses that issue and quiets the warning\n",
    "ax.set_yticks(ax.get_yticks())\n",
    "ax.set_yticklabels([f'{x:,.0f}' for x in ax.get_yticks()]);"
   ],
   "id": "351838cc2cfc4e68",
   "outputs": [
    {
     "name": "stdout",
     "output_type": "stream",
     "text": [
      "Percentage of 0 labels: 0.579\n",
      "Percentage of 1 labels: 0.421\n",
      "\n"
     ]
    },
    {
     "data": {
      "text/plain": [
       "<Figure size 640x480 with 1 Axes>"
      ],
      "image/png": "[encoded data removed]"
     },
     "metadata": {},
     "output_type": "display_data"
    }
   ],
   "execution_count": 19
  },
  {
   "metadata": {},
   "cell_type": "markdown",
   "source": [
    "It looks like we have a 60-40 split between 0s (not a real disaster) and 1s (is a real disaster). I feel fine with this split, though it is an area we could circle back to in future modeling iterations to adjust to a 50-50 split to see if that affects model performance.\n",
    "\n",
    "With that, I think we have the dataset ready to start exploring modeling. We noted a few areas where we may want to return during this iteration of the project or in future iterations. For now, we will let modeling guide us on if we need to return to anything above, and, in order to do that, we need to pivot to the modeling itself.\n",
    "\n",
    "With one more stop along the way."
   ],
   "id": "f8eeeb58fb991154"
  },
  {
   "metadata": {},
   "cell_type": "markdown",
   "source": [
    "## Word Embeddings\n",
    "\n",
    "We are not quite done with preprocessing. The final piece we need is to implement word embeddings. Machine learning models cannot work with raw text, so we need to convert text to numbers in matrix form.\n",
    "\n",
    "It helps me to think of arriving at word embeddings as a step along the process of turning text into numeric representations. We will walk through this for the `text` feature, but we also need a strategy for including `keyword`.\n",
    "\n",
    "To start out, we will walk through the bag-of-words approach.\n",
    "\n",
    "We could one-hot encode all the words in all the tweets. We would have a big sparse matrix with one feature for each word that shows up across all the tweets. This feature space would be the entire vocabulary we are working with across all the tweets combined. The initial encoding here is not helpful since it is unclear what each row represents. We can improve this by defining each row as one tweet. Instead of a one-hot encoded matrix, we now use 1s to indicate each word that shows up in a tweet. The matrix will still be very sparse due to having around 10-20 words per tweet on average, a small portion of the total number of unique words in the combined vocabulary. So, while we are still working with a matrix that is sparse enough to be problematic, we have found a foothold for representing tweets as numeric vectors in a way that makes some sense.\n",
    "\n",
    "For the next improvement, we need to address that the previous step leaves us with boolean flags indicating if a word exists in a tweet, but there is no context for those words. A next step could be to change the 1s and 0s for boolean indicators to counts. We would keep the same sparsity in the matrix, but we would now have a little more info related to how often each word shows up in a tweet. For example, the model may use counts to determine that if the word \"fire\" shows up once or twice in a tweet, then it is more likely related to an actual disaster, but, if \"fire\" shows up more often, then it does not correlate with a real disaster.\n",
    "\n",
    "The bag-of-words models are missing one major piece of information we need: context. We do not know which words show up near each other, so we lose the ability to process phrases. We do not include overall tweet length, so the model may not distinguish between words showing up more often due to longer tweet length compared to words showing up more indicating more importance on those words. We can add in our next improvement by dividing each count by the total number of words in a tweet, resulting in a text frequency (TF).\n",
    "\n",
    "While this is a step up from raw counts, we still have the issue that some words in the English language are more common than others. For example, \"the\" and \"a\" will likely show up with higher TF than other words, those other words being more important for identifying real disasters. To adjust for this, we can multiply the TF by the inverse of the amount of tweets in which a given word shows up, the inverse document frequency (IDF). The result of multiplying the TF by the IDF gives us a TFIDF value. If a word shows up in lots of tweets, then it will have a low IDF, so, when we multiply the TF by the IDF, the resulting value is lower. In contrast, if a word shows up in fewer tweets, then multiplying by the IDF results in a higher value. The way I understand this is that words that are too common across tweets are not useful for distinguishing between those tweets. We want to isolate less frequent words in the hopes that those will provide stronger signals for the meaning of tweets.\n",
    "\n",
    "We will stick with TFIDF for this project. I originally planned to keep moving on to Word2Vec, a more complicated algorithm for converting text to numbers that captures context and relationships in the text or global vectors for word representation (GloVe), an embedding algorithm that focuses on co-occurrence of words. But, I am now leaning towards keeping the word embeddings step simpler in order to remain focused on the RNN modeling coming up.\n"
   ],
   "id": "2669d1ef82f21ec1"
  },
  {
   "metadata": {},
   "cell_type": "markdown",
   "source": [
    "## Modeling\n",
    "\n",
    "We will use RNNs for modeling.\n",
    "\n",
    "- RNNs work with sequences\n",
    "- Clarify what sequences are\n",
    "- Point out what is different with RNNs and sequences compared to MLPs or CNNs\n",
    "- Passing outputs back in as inputs\n",
    "- How to retain context or history of inputs\n",
    "- Variable input and output lengths\n",
    "- Lots of flexibility with RNNs, so how do we keep that complexity constrained and focused on the project goals\n",
    "- Other models have fixed inputs and outputs that we know ahead of time\n",
    "- LSTMs\n",
    "- LSTMs add more complexity to incorporating previous information than in standard RNNs\n",
    "- This project is a many-to-one RNN architecture\n",
    "- Talk about how we could include the embedding matrix as part of the RNN or can pass an embedding matrix in as input\n",
    "- RNNs also have a weight matrix for hidden layer to hidden layer that we add to the next input layer\n",
    "- Backpropagation through time\n",
    "- Binary classification\n",
    "- Focusing on text feature first, though we have keyword queued up to add into the model"
   ],
   "id": "a36fbb01cde9bc7"
  },
  {
   "metadata": {
    "ExecuteTime": {
     "end_time": "2024-09-02T18:51:53.041411Z",
     "start_time": "2024-09-02T18:51:53.034518Z"
    }
   },
   "cell_type": "code",
   "source": [
    "x_train, x_val, y_train, y_val = train_test_split(\n",
    "    df_train['text']\n",
    "    , df_train['target']\n",
    "    , test_size=0.2\n",
    "    , random_state=8675309\n",
    ")"
   ],
   "id": "5800b0bd1f91d5b9",
   "outputs": [],
   "execution_count": 20
  },
  {
   "metadata": {
    "ExecuteTime": {
     "end_time": "2024-09-02T18:51:57.572490Z",
     "start_time": "2024-09-02T18:51:53.153700Z"
    }
   },
   "cell_type": "code",
   "source": [
    "encoder = layers.TextVectorization(\n",
    "    standardize='lower_and_strip_punctuation'\n",
    "    , split='whitespace'\n",
    "    , output_mode='tf_idf'\n",
    ")\n",
    "encoder.adapt(x_train)\n"
   ],
   "id": "345d7d0422b0d85c",
   "outputs": [],
   "execution_count": 21
  },
  {
   "metadata": {
    "ExecuteTime": {
     "end_time": "2024-09-02T18:51:57.904859Z",
     "start_time": "2024-09-02T18:51:57.899808Z"
    }
   },
   "cell_type": "code",
   "source": "encoder.vocabulary_size()",
   "id": "d9c0d6115bdc0b51",
   "outputs": [
    {
     "data": {
      "text/plain": [
       "17238"
      ]
     },
     "execution_count": 23,
     "metadata": {},
     "output_type": "execute_result"
    }
   ],
   "execution_count": 23
  },
  {
   "metadata": {
    "ExecuteTime": {
     "end_time": "2024-09-02T19:18:00.474850Z",
     "start_time": "2024-09-02T19:18:00.389799Z"
    }
   },
   "cell_type": "code",
   "source": [
    "rnn = models.Sequential([\n",
    "    encoder\n",
    "    , layers.Embedding(\n",
    "        input_dim=encoder.vocabulary_size()\n",
    "        , output_dim=64 # Can adjust to balance overfitting with losing information from the embeddings\n",
    "    )\n",
    "    , layers.SimpleRNN(64, activation='tanh')\n",
    "    , layers.Dense(64, activation='relu')\n",
    "    , layers.Dense(1, activation='sigmoid')\n",
    "])\n",
    "\n",
    "rnn.summary()"
   ],
   "id": "e0b12dd24bb7c1ae",
   "outputs": [
    {
     "data": {
      "text/plain": [
       "\u001B[1mModel: \"sequential_1\"\u001B[0m\n"
      ],
      "text/html": [
       "<pre style=\"white-space:pre;overflow-x:auto;line-height:normal;font-family:Menlo,'DejaVu Sans Mono',consolas,'Courier New',monospace\"><span style=\"font-weight: bold\">Model: \"sequential_1\"</span>\n",
       "</pre>\n"
      ]
     },
     "metadata": {},
     "output_type": "display_data"
    },
    {
     "data": {
      "text/plain": [
       "┏━━━━━━━━━━━━━━━━━━━━━━━━━━━━━━━━━┳━━━━━━━━━━━━━━━━━━━━━━━━┳━━━━━━━━━━━━━━━┓\n",
       "┃\u001B[1m \u001B[0m\u001B[1mLayer (type)                   \u001B[0m\u001B[1m \u001B[0m┃\u001B[1m \u001B[0m\u001B[1mOutput Shape          \u001B[0m\u001B[1m \u001B[0m┃\u001B[1m \u001B[0m\u001B[1m      Param #\u001B[0m\u001B[1m \u001B[0m┃\n",
       "┡━━━━━━━━━━━━━━━━━━━━━━━━━━━━━━━━━╇━━━━━━━━━━━━━━━━━━━━━━━━╇━━━━━━━━━━━━━━━┩\n",
       "│ text_vectorization              │ ?                      │   \u001B[38;5;34m0\u001B[0m (unbuilt) │\n",
       "│ (\u001B[38;5;33mTextVectorization\u001B[0m)             │                        │               │\n",
       "├─────────────────────────────────┼────────────────────────┼───────────────┤\n",
       "│ embedding (\u001B[38;5;33mEmbedding\u001B[0m)           │ ?                      │   \u001B[38;5;34m0\u001B[0m (unbuilt) │\n",
       "├─────────────────────────────────┼────────────────────────┼───────────────┤\n",
       "│ simple_rnn (\u001B[38;5;33mSimpleRNN\u001B[0m)          │ ?                      │   \u001B[38;5;34m0\u001B[0m (unbuilt) │\n",
       "├─────────────────────────────────┼────────────────────────┼───────────────┤\n",
       "│ dense (\u001B[38;5;33mDense\u001B[0m)                   │ ?                      │   \u001B[38;5;34m0\u001B[0m (unbuilt) │\n",
       "├─────────────────────────────────┼────────────────────────┼───────────────┤\n",
       "│ dense_1 (\u001B[38;5;33mDense\u001B[0m)                 │ ?                      │   \u001B[38;5;34m0\u001B[0m (unbuilt) │\n",
       "└─────────────────────────────────┴────────────────────────┴───────────────┘\n"
      ],
      "text/html": [
       "<pre style=\"white-space:pre;overflow-x:auto;line-height:normal;font-family:Menlo,'DejaVu Sans Mono',consolas,'Courier New',monospace\">┏━━━━━━━━━━━━━━━━━━━━━━━━━━━━━━━━━┳━━━━━━━━━━━━━━━━━━━━━━━━┳━━━━━━━━━━━━━━━┓\n",
       "┃<span style=\"font-weight: bold\"> Layer (type)                    </span>┃<span style=\"font-weight: bold\"> Output Shape           </span>┃<span style=\"font-weight: bold\">       Param # </span>┃\n",
       "┡━━━━━━━━━━━━━━━━━━━━━━━━━━━━━━━━━╇━━━━━━━━━━━━━━━━━━━━━━━━╇━━━━━━━━━━━━━━━┩\n",
       "│ text_vectorization              │ ?                      │   <span style=\"color: #00af00; text-decoration-color: #00af00\">0</span> (unbuilt) │\n",
       "│ (<span style=\"color: #0087ff; text-decoration-color: #0087ff\">TextVectorization</span>)             │                        │               │\n",
       "├─────────────────────────────────┼────────────────────────┼───────────────┤\n",
       "│ embedding (<span style=\"color: #0087ff; text-decoration-color: #0087ff\">Embedding</span>)           │ ?                      │   <span style=\"color: #00af00; text-decoration-color: #00af00\">0</span> (unbuilt) │\n",
       "├─────────────────────────────────┼────────────────────────┼───────────────┤\n",
       "│ simple_rnn (<span style=\"color: #0087ff; text-decoration-color: #0087ff\">SimpleRNN</span>)          │ ?                      │   <span style=\"color: #00af00; text-decoration-color: #00af00\">0</span> (unbuilt) │\n",
       "├─────────────────────────────────┼────────────────────────┼───────────────┤\n",
       "│ dense (<span style=\"color: #0087ff; text-decoration-color: #0087ff\">Dense</span>)                   │ ?                      │   <span style=\"color: #00af00; text-decoration-color: #00af00\">0</span> (unbuilt) │\n",
       "├─────────────────────────────────┼────────────────────────┼───────────────┤\n",
       "│ dense_1 (<span style=\"color: #0087ff; text-decoration-color: #0087ff\">Dense</span>)                 │ ?                      │   <span style=\"color: #00af00; text-decoration-color: #00af00\">0</span> (unbuilt) │\n",
       "└─────────────────────────────────┴────────────────────────┴───────────────┘\n",
       "</pre>\n"
      ]
     },
     "metadata": {},
     "output_type": "display_data"
    },
    {
     "data": {
      "text/plain": [
       "\u001B[1m Total params: \u001B[0m\u001B[38;5;34m0\u001B[0m (0.00 B)\n"
      ],
      "text/html": [
       "<pre style=\"white-space:pre;overflow-x:auto;line-height:normal;font-family:Menlo,'DejaVu Sans Mono',consolas,'Courier New',monospace\"><span style=\"font-weight: bold\"> Total params: </span><span style=\"color: #00af00; text-decoration-color: #00af00\">0</span> (0.00 B)\n",
       "</pre>\n"
      ]
     },
     "metadata": {},
     "output_type": "display_data"
    },
    {
     "data": {
      "text/plain": [
       "\u001B[1m Trainable params: \u001B[0m\u001B[38;5;34m0\u001B[0m (0.00 B)\n"
      ],
      "text/html": [
       "<pre style=\"white-space:pre;overflow-x:auto;line-height:normal;font-family:Menlo,'DejaVu Sans Mono',consolas,'Courier New',monospace\"><span style=\"font-weight: bold\"> Trainable params: </span><span style=\"color: #00af00; text-decoration-color: #00af00\">0</span> (0.00 B)\n",
       "</pre>\n"
      ]
     },
     "metadata": {},
     "output_type": "display_data"
    },
    {
     "data": {
      "text/plain": [
       "\u001B[1m Non-trainable params: \u001B[0m\u001B[38;5;34m0\u001B[0m (0.00 B)\n"
      ],
      "text/html": [
       "<pre style=\"white-space:pre;overflow-x:auto;line-height:normal;font-family:Menlo,'DejaVu Sans Mono',consolas,'Courier New',monospace\"><span style=\"font-weight: bold\"> Non-trainable params: </span><span style=\"color: #00af00; text-decoration-color: #00af00\">0</span> (0.00 B)\n",
       "</pre>\n"
      ]
     },
     "metadata": {},
     "output_type": "display_data"
    }
   ],
   "execution_count": 28
  },
  {
   "metadata": {
    "ExecuteTime": {
     "end_time": "2024-09-02T19:25:14.616552Z",
     "start_time": "2024-09-02T19:25:14.596703Z"
    }
   },
   "cell_type": "code",
   "source": [
    "rnn.compile(\n",
    "    optimizer='adam'\n",
    "    , loss='binary_crossentropy'\n",
    "    , metrics=['f1_score']\n",
    ")"
   ],
   "id": "82e39d4a0dde9309",
   "outputs": [],
   "execution_count": 32
  },
  {
   "metadata": {
    "ExecuteTime": {
     "end_time": "2024-09-02T19:29:24.129302Z",
     "start_time": "2024-09-02T19:25:51.005852Z"
    }
   },
   "cell_type": "code",
   "source": [
    "# hist = rnn.fit(\n",
    "#     x=x_train\n",
    "#     , y=y_train\n",
    "#     , epochs=10\n",
    "#     , verbose=2\n",
    "#     , validation_data=(x_val, y_val)\n",
    "# )"
   ],
   "id": "8c9258ac600ef98c",
   "outputs": [
    {
     "name": "stdout",
     "output_type": "stream",
     "text": [
      "Epoch 1/10\n"
     ]
    },
    {
     "ename": "KeyboardInterrupt",
     "evalue": "",
     "output_type": "error",
     "traceback": [
      "\u001B[0;31m---------------------------------------------------------------------------\u001B[0m",
      "\u001B[0;31mKeyboardInterrupt\u001B[0m                         Traceback (most recent call last)",
      "Cell \u001B[0;32mIn[34], line 1\u001B[0m\n\u001B[0;32m----> 1\u001B[0m hist \u001B[38;5;241m=\u001B[39m \u001B[43mrnn\u001B[49m\u001B[38;5;241;43m.\u001B[39;49m\u001B[43mfit\u001B[49m\u001B[43m(\u001B[49m\n\u001B[1;32m      2\u001B[0m \u001B[43m    \u001B[49m\u001B[43mx\u001B[49m\u001B[38;5;241;43m=\u001B[39;49m\u001B[43mx_train\u001B[49m\n\u001B[1;32m      3\u001B[0m \u001B[43m    \u001B[49m\u001B[43m,\u001B[49m\u001B[43m \u001B[49m\u001B[43my\u001B[49m\u001B[38;5;241;43m=\u001B[39;49m\u001B[43my_train\u001B[49m\n\u001B[1;32m      4\u001B[0m \u001B[43m    \u001B[49m\u001B[43m,\u001B[49m\u001B[43m \u001B[49m\u001B[43mepochs\u001B[49m\u001B[38;5;241;43m=\u001B[39;49m\u001B[38;5;241;43m10\u001B[39;49m\n\u001B[1;32m      5\u001B[0m \u001B[43m    \u001B[49m\u001B[43m,\u001B[49m\u001B[43m \u001B[49m\u001B[43mverbose\u001B[49m\u001B[38;5;241;43m=\u001B[39;49m\u001B[38;5;241;43m2\u001B[39;49m\n\u001B[1;32m      6\u001B[0m \u001B[43m    \u001B[49m\u001B[43m,\u001B[49m\u001B[43m \u001B[49m\u001B[43mvalidation_data\u001B[49m\u001B[38;5;241;43m=\u001B[39;49m\u001B[43m(\u001B[49m\u001B[43mx_val\u001B[49m\u001B[43m,\u001B[49m\u001B[43m \u001B[49m\u001B[43my_val\u001B[49m\u001B[43m)\u001B[49m\n\u001B[1;32m      7\u001B[0m \u001B[43m)\u001B[49m\n",
      "File \u001B[0;32m~/.local/share/virtualenvs/msds-nlp-disaster-tweets-Jq_CgEyH/lib/python3.12/site-packages/keras/src/utils/traceback_utils.py:117\u001B[0m, in \u001B[0;36mfilter_traceback.<locals>.error_handler\u001B[0;34m(*args, **kwargs)\u001B[0m\n\u001B[1;32m    115\u001B[0m filtered_tb \u001B[38;5;241m=\u001B[39m \u001B[38;5;28;01mNone\u001B[39;00m\n\u001B[1;32m    116\u001B[0m \u001B[38;5;28;01mtry\u001B[39;00m:\n\u001B[0;32m--> 117\u001B[0m     \u001B[38;5;28;01mreturn\u001B[39;00m \u001B[43mfn\u001B[49m\u001B[43m(\u001B[49m\u001B[38;5;241;43m*\u001B[39;49m\u001B[43margs\u001B[49m\u001B[43m,\u001B[49m\u001B[43m \u001B[49m\u001B[38;5;241;43m*\u001B[39;49m\u001B[38;5;241;43m*\u001B[39;49m\u001B[43mkwargs\u001B[49m\u001B[43m)\u001B[49m\n\u001B[1;32m    118\u001B[0m \u001B[38;5;28;01mexcept\u001B[39;00m \u001B[38;5;167;01mException\u001B[39;00m \u001B[38;5;28;01mas\u001B[39;00m e:\n\u001B[1;32m    119\u001B[0m     filtered_tb \u001B[38;5;241m=\u001B[39m _process_traceback_frames(e\u001B[38;5;241m.\u001B[39m__traceback__)\n",
      "File \u001B[0;32m~/.local/share/virtualenvs/msds-nlp-disaster-tweets-Jq_CgEyH/lib/python3.12/site-packages/keras/src/backend/tensorflow/trainer.py:320\u001B[0m, in \u001B[0;36mTensorFlowTrainer.fit\u001B[0;34m(self, x, y, batch_size, epochs, verbose, callbacks, validation_split, validation_data, shuffle, class_weight, sample_weight, initial_epoch, steps_per_epoch, validation_steps, validation_batch_size, validation_freq)\u001B[0m\n\u001B[1;32m    318\u001B[0m \u001B[38;5;28;01mfor\u001B[39;00m step, iterator \u001B[38;5;129;01min\u001B[39;00m epoch_iterator\u001B[38;5;241m.\u001B[39menumerate_epoch():\n\u001B[1;32m    319\u001B[0m     callbacks\u001B[38;5;241m.\u001B[39mon_train_batch_begin(step)\n\u001B[0;32m--> 320\u001B[0m     logs \u001B[38;5;241m=\u001B[39m \u001B[38;5;28;43mself\u001B[39;49m\u001B[38;5;241;43m.\u001B[39;49m\u001B[43mtrain_function\u001B[49m\u001B[43m(\u001B[49m\u001B[43miterator\u001B[49m\u001B[43m)\u001B[49m\n\u001B[1;32m    321\u001B[0m     logs \u001B[38;5;241m=\u001B[39m \u001B[38;5;28mself\u001B[39m\u001B[38;5;241m.\u001B[39m_pythonify_logs(logs)\n\u001B[1;32m    322\u001B[0m     callbacks\u001B[38;5;241m.\u001B[39mon_train_batch_end(step, logs)\n",
      "File \u001B[0;32m~/.local/share/virtualenvs/msds-nlp-disaster-tweets-Jq_CgEyH/lib/python3.12/site-packages/tensorflow/python/util/traceback_utils.py:150\u001B[0m, in \u001B[0;36mfilter_traceback.<locals>.error_handler\u001B[0;34m(*args, **kwargs)\u001B[0m\n\u001B[1;32m    148\u001B[0m filtered_tb \u001B[38;5;241m=\u001B[39m \u001B[38;5;28;01mNone\u001B[39;00m\n\u001B[1;32m    149\u001B[0m \u001B[38;5;28;01mtry\u001B[39;00m:\n\u001B[0;32m--> 150\u001B[0m   \u001B[38;5;28;01mreturn\u001B[39;00m \u001B[43mfn\u001B[49m\u001B[43m(\u001B[49m\u001B[38;5;241;43m*\u001B[39;49m\u001B[43margs\u001B[49m\u001B[43m,\u001B[49m\u001B[43m \u001B[49m\u001B[38;5;241;43m*\u001B[39;49m\u001B[38;5;241;43m*\u001B[39;49m\u001B[43mkwargs\u001B[49m\u001B[43m)\u001B[49m\n\u001B[1;32m    151\u001B[0m \u001B[38;5;28;01mexcept\u001B[39;00m \u001B[38;5;167;01mException\u001B[39;00m \u001B[38;5;28;01mas\u001B[39;00m e:\n\u001B[1;32m    152\u001B[0m   filtered_tb \u001B[38;5;241m=\u001B[39m _process_traceback_frames(e\u001B[38;5;241m.\u001B[39m__traceback__)\n",
      "File \u001B[0;32m~/.local/share/virtualenvs/msds-nlp-disaster-tweets-Jq_CgEyH/lib/python3.12/site-packages/tensorflow/python/eager/polymorphic_function/polymorphic_function.py:833\u001B[0m, in \u001B[0;36mFunction.__call__\u001B[0;34m(self, *args, **kwds)\u001B[0m\n\u001B[1;32m    830\u001B[0m compiler \u001B[38;5;241m=\u001B[39m \u001B[38;5;124m\"\u001B[39m\u001B[38;5;124mxla\u001B[39m\u001B[38;5;124m\"\u001B[39m \u001B[38;5;28;01mif\u001B[39;00m \u001B[38;5;28mself\u001B[39m\u001B[38;5;241m.\u001B[39m_jit_compile \u001B[38;5;28;01melse\u001B[39;00m \u001B[38;5;124m\"\u001B[39m\u001B[38;5;124mnonXla\u001B[39m\u001B[38;5;124m\"\u001B[39m\n\u001B[1;32m    832\u001B[0m \u001B[38;5;28;01mwith\u001B[39;00m OptionalXlaContext(\u001B[38;5;28mself\u001B[39m\u001B[38;5;241m.\u001B[39m_jit_compile):\n\u001B[0;32m--> 833\u001B[0m   result \u001B[38;5;241m=\u001B[39m \u001B[38;5;28;43mself\u001B[39;49m\u001B[38;5;241;43m.\u001B[39;49m\u001B[43m_call\u001B[49m\u001B[43m(\u001B[49m\u001B[38;5;241;43m*\u001B[39;49m\u001B[43margs\u001B[49m\u001B[43m,\u001B[49m\u001B[43m \u001B[49m\u001B[38;5;241;43m*\u001B[39;49m\u001B[38;5;241;43m*\u001B[39;49m\u001B[43mkwds\u001B[49m\u001B[43m)\u001B[49m\n\u001B[1;32m    835\u001B[0m new_tracing_count \u001B[38;5;241m=\u001B[39m \u001B[38;5;28mself\u001B[39m\u001B[38;5;241m.\u001B[39mexperimental_get_tracing_count()\n\u001B[1;32m    836\u001B[0m without_tracing \u001B[38;5;241m=\u001B[39m (tracing_count \u001B[38;5;241m==\u001B[39m new_tracing_count)\n",
      "File \u001B[0;32m~/.local/share/virtualenvs/msds-nlp-disaster-tweets-Jq_CgEyH/lib/python3.12/site-packages/tensorflow/python/eager/polymorphic_function/polymorphic_function.py:878\u001B[0m, in \u001B[0;36mFunction._call\u001B[0;34m(self, *args, **kwds)\u001B[0m\n\u001B[1;32m    875\u001B[0m \u001B[38;5;28mself\u001B[39m\u001B[38;5;241m.\u001B[39m_lock\u001B[38;5;241m.\u001B[39mrelease()\n\u001B[1;32m    876\u001B[0m \u001B[38;5;66;03m# In this case we have not created variables on the first call. So we can\u001B[39;00m\n\u001B[1;32m    877\u001B[0m \u001B[38;5;66;03m# run the first trace but we should fail if variables are created.\u001B[39;00m\n\u001B[0;32m--> 878\u001B[0m results \u001B[38;5;241m=\u001B[39m \u001B[43mtracing_compilation\u001B[49m\u001B[38;5;241;43m.\u001B[39;49m\u001B[43mcall_function\u001B[49m\u001B[43m(\u001B[49m\n\u001B[1;32m    879\u001B[0m \u001B[43m    \u001B[49m\u001B[43margs\u001B[49m\u001B[43m,\u001B[49m\u001B[43m \u001B[49m\u001B[43mkwds\u001B[49m\u001B[43m,\u001B[49m\u001B[43m \u001B[49m\u001B[38;5;28;43mself\u001B[39;49m\u001B[38;5;241;43m.\u001B[39;49m\u001B[43m_variable_creation_config\u001B[49m\n\u001B[1;32m    880\u001B[0m \u001B[43m\u001B[49m\u001B[43m)\u001B[49m\n\u001B[1;32m    881\u001B[0m \u001B[38;5;28;01mif\u001B[39;00m \u001B[38;5;28mself\u001B[39m\u001B[38;5;241m.\u001B[39m_created_variables:\n\u001B[1;32m    882\u001B[0m   \u001B[38;5;28;01mraise\u001B[39;00m \u001B[38;5;167;01mValueError\u001B[39;00m(\u001B[38;5;124m\"\u001B[39m\u001B[38;5;124mCreating variables on a non-first call to a function\u001B[39m\u001B[38;5;124m\"\u001B[39m\n\u001B[1;32m    883\u001B[0m                    \u001B[38;5;124m\"\u001B[39m\u001B[38;5;124m decorated with tf.function.\u001B[39m\u001B[38;5;124m\"\u001B[39m)\n",
      "File \u001B[0;32m~/.local/share/virtualenvs/msds-nlp-disaster-tweets-Jq_CgEyH/lib/python3.12/site-packages/tensorflow/python/eager/polymorphic_function/tracing_compilation.py:139\u001B[0m, in \u001B[0;36mcall_function\u001B[0;34m(args, kwargs, tracing_options)\u001B[0m\n\u001B[1;32m    137\u001B[0m bound_args \u001B[38;5;241m=\u001B[39m function\u001B[38;5;241m.\u001B[39mfunction_type\u001B[38;5;241m.\u001B[39mbind(\u001B[38;5;241m*\u001B[39margs, \u001B[38;5;241m*\u001B[39m\u001B[38;5;241m*\u001B[39mkwargs)\n\u001B[1;32m    138\u001B[0m flat_inputs \u001B[38;5;241m=\u001B[39m function\u001B[38;5;241m.\u001B[39mfunction_type\u001B[38;5;241m.\u001B[39munpack_inputs(bound_args)\n\u001B[0;32m--> 139\u001B[0m \u001B[38;5;28;01mreturn\u001B[39;00m \u001B[43mfunction\u001B[49m\u001B[38;5;241;43m.\u001B[39;49m\u001B[43m_call_flat\u001B[49m\u001B[43m(\u001B[49m\u001B[43m  \u001B[49m\u001B[38;5;66;43;03m# pylint: disable=protected-access\u001B[39;49;00m\n\u001B[1;32m    140\u001B[0m \u001B[43m    \u001B[49m\u001B[43mflat_inputs\u001B[49m\u001B[43m,\u001B[49m\u001B[43m \u001B[49m\u001B[43mcaptured_inputs\u001B[49m\u001B[38;5;241;43m=\u001B[39;49m\u001B[43mfunction\u001B[49m\u001B[38;5;241;43m.\u001B[39;49m\u001B[43mcaptured_inputs\u001B[49m\n\u001B[1;32m    141\u001B[0m \u001B[43m\u001B[49m\u001B[43m)\u001B[49m\n",
      "File \u001B[0;32m~/.local/share/virtualenvs/msds-nlp-disaster-tweets-Jq_CgEyH/lib/python3.12/site-packages/tensorflow/python/eager/polymorphic_function/concrete_function.py:1322\u001B[0m, in \u001B[0;36mConcreteFunction._call_flat\u001B[0;34m(self, tensor_inputs, captured_inputs)\u001B[0m\n\u001B[1;32m   1318\u001B[0m possible_gradient_type \u001B[38;5;241m=\u001B[39m gradients_util\u001B[38;5;241m.\u001B[39mPossibleTapeGradientTypes(args)\n\u001B[1;32m   1319\u001B[0m \u001B[38;5;28;01mif\u001B[39;00m (possible_gradient_type \u001B[38;5;241m==\u001B[39m gradients_util\u001B[38;5;241m.\u001B[39mPOSSIBLE_GRADIENT_TYPES_NONE\n\u001B[1;32m   1320\u001B[0m     \u001B[38;5;129;01mand\u001B[39;00m executing_eagerly):\n\u001B[1;32m   1321\u001B[0m   \u001B[38;5;66;03m# No tape is watching; skip to running the function.\u001B[39;00m\n\u001B[0;32m-> 1322\u001B[0m   \u001B[38;5;28;01mreturn\u001B[39;00m \u001B[38;5;28;43mself\u001B[39;49m\u001B[38;5;241;43m.\u001B[39;49m\u001B[43m_inference_function\u001B[49m\u001B[38;5;241;43m.\u001B[39;49m\u001B[43mcall_preflattened\u001B[49m\u001B[43m(\u001B[49m\u001B[43margs\u001B[49m\u001B[43m)\u001B[49m\n\u001B[1;32m   1323\u001B[0m forward_backward \u001B[38;5;241m=\u001B[39m \u001B[38;5;28mself\u001B[39m\u001B[38;5;241m.\u001B[39m_select_forward_and_backward_functions(\n\u001B[1;32m   1324\u001B[0m     args,\n\u001B[1;32m   1325\u001B[0m     possible_gradient_type,\n\u001B[1;32m   1326\u001B[0m     executing_eagerly)\n\u001B[1;32m   1327\u001B[0m forward_function, args_with_tangents \u001B[38;5;241m=\u001B[39m forward_backward\u001B[38;5;241m.\u001B[39mforward()\n",
      "File \u001B[0;32m~/.local/share/virtualenvs/msds-nlp-disaster-tweets-Jq_CgEyH/lib/python3.12/site-packages/tensorflow/python/eager/polymorphic_function/atomic_function.py:216\u001B[0m, in \u001B[0;36mAtomicFunction.call_preflattened\u001B[0;34m(self, args)\u001B[0m\n\u001B[1;32m    214\u001B[0m \u001B[38;5;28;01mdef\u001B[39;00m \u001B[38;5;21mcall_preflattened\u001B[39m(\u001B[38;5;28mself\u001B[39m, args: Sequence[core\u001B[38;5;241m.\u001B[39mTensor]) \u001B[38;5;241m-\u001B[39m\u001B[38;5;241m>\u001B[39m Any:\n\u001B[1;32m    215\u001B[0m \u001B[38;5;250m  \u001B[39m\u001B[38;5;124;03m\"\"\"Calls with flattened tensor inputs and returns the structured output.\"\"\"\u001B[39;00m\n\u001B[0;32m--> 216\u001B[0m   flat_outputs \u001B[38;5;241m=\u001B[39m \u001B[38;5;28;43mself\u001B[39;49m\u001B[38;5;241;43m.\u001B[39;49m\u001B[43mcall_flat\u001B[49m\u001B[43m(\u001B[49m\u001B[38;5;241;43m*\u001B[39;49m\u001B[43margs\u001B[49m\u001B[43m)\u001B[49m\n\u001B[1;32m    217\u001B[0m   \u001B[38;5;28;01mreturn\u001B[39;00m \u001B[38;5;28mself\u001B[39m\u001B[38;5;241m.\u001B[39mfunction_type\u001B[38;5;241m.\u001B[39mpack_output(flat_outputs)\n",
      "File \u001B[0;32m~/.local/share/virtualenvs/msds-nlp-disaster-tweets-Jq_CgEyH/lib/python3.12/site-packages/tensorflow/python/eager/polymorphic_function/atomic_function.py:251\u001B[0m, in \u001B[0;36mAtomicFunction.call_flat\u001B[0;34m(self, *args)\u001B[0m\n\u001B[1;32m    249\u001B[0m \u001B[38;5;28;01mwith\u001B[39;00m record\u001B[38;5;241m.\u001B[39mstop_recording():\n\u001B[1;32m    250\u001B[0m   \u001B[38;5;28;01mif\u001B[39;00m \u001B[38;5;28mself\u001B[39m\u001B[38;5;241m.\u001B[39m_bound_context\u001B[38;5;241m.\u001B[39mexecuting_eagerly():\n\u001B[0;32m--> 251\u001B[0m     outputs \u001B[38;5;241m=\u001B[39m \u001B[38;5;28;43mself\u001B[39;49m\u001B[38;5;241;43m.\u001B[39;49m\u001B[43m_bound_context\u001B[49m\u001B[38;5;241;43m.\u001B[39;49m\u001B[43mcall_function\u001B[49m\u001B[43m(\u001B[49m\n\u001B[1;32m    252\u001B[0m \u001B[43m        \u001B[49m\u001B[38;5;28;43mself\u001B[39;49m\u001B[38;5;241;43m.\u001B[39;49m\u001B[43mname\u001B[49m\u001B[43m,\u001B[49m\n\u001B[1;32m    253\u001B[0m \u001B[43m        \u001B[49m\u001B[38;5;28;43mlist\u001B[39;49m\u001B[43m(\u001B[49m\u001B[43margs\u001B[49m\u001B[43m)\u001B[49m\u001B[43m,\u001B[49m\n\u001B[1;32m    254\u001B[0m \u001B[43m        \u001B[49m\u001B[38;5;28;43mlen\u001B[39;49m\u001B[43m(\u001B[49m\u001B[38;5;28;43mself\u001B[39;49m\u001B[38;5;241;43m.\u001B[39;49m\u001B[43mfunction_type\u001B[49m\u001B[38;5;241;43m.\u001B[39;49m\u001B[43mflat_outputs\u001B[49m\u001B[43m)\u001B[49m\u001B[43m,\u001B[49m\n\u001B[1;32m    255\u001B[0m \u001B[43m    \u001B[49m\u001B[43m)\u001B[49m\n\u001B[1;32m    256\u001B[0m   \u001B[38;5;28;01melse\u001B[39;00m:\n\u001B[1;32m    257\u001B[0m     outputs \u001B[38;5;241m=\u001B[39m make_call_op_in_graph(\n\u001B[1;32m    258\u001B[0m         \u001B[38;5;28mself\u001B[39m,\n\u001B[1;32m    259\u001B[0m         \u001B[38;5;28mlist\u001B[39m(args),\n\u001B[1;32m    260\u001B[0m         \u001B[38;5;28mself\u001B[39m\u001B[38;5;241m.\u001B[39m_bound_context\u001B[38;5;241m.\u001B[39mfunction_call_options\u001B[38;5;241m.\u001B[39mas_attrs(),\n\u001B[1;32m    261\u001B[0m     )\n",
      "File \u001B[0;32m~/.local/share/virtualenvs/msds-nlp-disaster-tweets-Jq_CgEyH/lib/python3.12/site-packages/tensorflow/python/eager/context.py:1500\u001B[0m, in \u001B[0;36mContext.call_function\u001B[0;34m(self, name, tensor_inputs, num_outputs)\u001B[0m\n\u001B[1;32m   1498\u001B[0m cancellation_context \u001B[38;5;241m=\u001B[39m cancellation\u001B[38;5;241m.\u001B[39mcontext()\n\u001B[1;32m   1499\u001B[0m \u001B[38;5;28;01mif\u001B[39;00m cancellation_context \u001B[38;5;129;01mis\u001B[39;00m \u001B[38;5;28;01mNone\u001B[39;00m:\n\u001B[0;32m-> 1500\u001B[0m   outputs \u001B[38;5;241m=\u001B[39m \u001B[43mexecute\u001B[49m\u001B[38;5;241;43m.\u001B[39;49m\u001B[43mexecute\u001B[49m\u001B[43m(\u001B[49m\n\u001B[1;32m   1501\u001B[0m \u001B[43m      \u001B[49m\u001B[43mname\u001B[49m\u001B[38;5;241;43m.\u001B[39;49m\u001B[43mdecode\u001B[49m\u001B[43m(\u001B[49m\u001B[38;5;124;43m\"\u001B[39;49m\u001B[38;5;124;43mutf-8\u001B[39;49m\u001B[38;5;124;43m\"\u001B[39;49m\u001B[43m)\u001B[49m\u001B[43m,\u001B[49m\n\u001B[1;32m   1502\u001B[0m \u001B[43m      \u001B[49m\u001B[43mnum_outputs\u001B[49m\u001B[38;5;241;43m=\u001B[39;49m\u001B[43mnum_outputs\u001B[49m\u001B[43m,\u001B[49m\n\u001B[1;32m   1503\u001B[0m \u001B[43m      \u001B[49m\u001B[43minputs\u001B[49m\u001B[38;5;241;43m=\u001B[39;49m\u001B[43mtensor_inputs\u001B[49m\u001B[43m,\u001B[49m\n\u001B[1;32m   1504\u001B[0m \u001B[43m      \u001B[49m\u001B[43mattrs\u001B[49m\u001B[38;5;241;43m=\u001B[39;49m\u001B[43mattrs\u001B[49m\u001B[43m,\u001B[49m\n\u001B[1;32m   1505\u001B[0m \u001B[43m      \u001B[49m\u001B[43mctx\u001B[49m\u001B[38;5;241;43m=\u001B[39;49m\u001B[38;5;28;43mself\u001B[39;49m\u001B[43m,\u001B[49m\n\u001B[1;32m   1506\u001B[0m \u001B[43m  \u001B[49m\u001B[43m)\u001B[49m\n\u001B[1;32m   1507\u001B[0m \u001B[38;5;28;01melse\u001B[39;00m:\n\u001B[1;32m   1508\u001B[0m   outputs \u001B[38;5;241m=\u001B[39m execute\u001B[38;5;241m.\u001B[39mexecute_with_cancellation(\n\u001B[1;32m   1509\u001B[0m       name\u001B[38;5;241m.\u001B[39mdecode(\u001B[38;5;124m\"\u001B[39m\u001B[38;5;124mutf-8\u001B[39m\u001B[38;5;124m\"\u001B[39m),\n\u001B[1;32m   1510\u001B[0m       num_outputs\u001B[38;5;241m=\u001B[39mnum_outputs,\n\u001B[0;32m   (...)\u001B[0m\n\u001B[1;32m   1514\u001B[0m       cancellation_manager\u001B[38;5;241m=\u001B[39mcancellation_context,\n\u001B[1;32m   1515\u001B[0m   )\n",
      "File \u001B[0;32m~/.local/share/virtualenvs/msds-nlp-disaster-tweets-Jq_CgEyH/lib/python3.12/site-packages/tensorflow/python/eager/execute.py:53\u001B[0m, in \u001B[0;36mquick_execute\u001B[0;34m(op_name, num_outputs, inputs, attrs, ctx, name)\u001B[0m\n\u001B[1;32m     51\u001B[0m \u001B[38;5;28;01mtry\u001B[39;00m:\n\u001B[1;32m     52\u001B[0m   ctx\u001B[38;5;241m.\u001B[39mensure_initialized()\n\u001B[0;32m---> 53\u001B[0m   tensors \u001B[38;5;241m=\u001B[39m \u001B[43mpywrap_tfe\u001B[49m\u001B[38;5;241;43m.\u001B[39;49m\u001B[43mTFE_Py_Execute\u001B[49m\u001B[43m(\u001B[49m\u001B[43mctx\u001B[49m\u001B[38;5;241;43m.\u001B[39;49m\u001B[43m_handle\u001B[49m\u001B[43m,\u001B[49m\u001B[43m \u001B[49m\u001B[43mdevice_name\u001B[49m\u001B[43m,\u001B[49m\u001B[43m \u001B[49m\u001B[43mop_name\u001B[49m\u001B[43m,\u001B[49m\n\u001B[1;32m     54\u001B[0m \u001B[43m                                      \u001B[49m\u001B[43minputs\u001B[49m\u001B[43m,\u001B[49m\u001B[43m \u001B[49m\u001B[43mattrs\u001B[49m\u001B[43m,\u001B[49m\u001B[43m \u001B[49m\u001B[43mnum_outputs\u001B[49m\u001B[43m)\u001B[49m\n\u001B[1;32m     55\u001B[0m \u001B[38;5;28;01mexcept\u001B[39;00m core\u001B[38;5;241m.\u001B[39m_NotOkStatusException \u001B[38;5;28;01mas\u001B[39;00m e:\n\u001B[1;32m     56\u001B[0m   \u001B[38;5;28;01mif\u001B[39;00m name \u001B[38;5;129;01mis\u001B[39;00m \u001B[38;5;129;01mnot\u001B[39;00m \u001B[38;5;28;01mNone\u001B[39;00m:\n",
      "\u001B[0;31mKeyboardInterrupt\u001B[0m: "
     ]
    }
   ],
   "execution_count": 34
  },
  {
   "metadata": {},
   "cell_type": "markdown",
   "source": "## Modeling Results and Summary",
   "id": "c1f5da599de25562"
  },
  {
   "metadata": {},
   "cell_type": "markdown",
   "source": "## Conclusion",
   "id": "f31a317593751b16"
  },
  {
   "metadata": {},
   "cell_type": "markdown",
   "source": [
    "## References\n",
    "\n",
    "RNNs:\n",
    "- https://colah.github.io/posts/2015-08-Understanding-LSTMs/\n",
    "- https://karpathy.github.io/2015/05/21/rnn-effectiveness/\n",
    "\n",
    "Good ol' Wikipedia starting points for NLP topics:\n",
    "- https://en.wikipedia.org/wiki/Document_classification \n",
    "- https://en.wikipedia.org/wiki/Feature_(machine_learning)#Feature_vectors\n",
    "- https://en.wikipedia.org/wiki/Word_embedding\n",
    "- https://en.wikipedia.org/wiki/Bag-of-words_model\n",
    "- https://en.wikipedia.org/wiki/Tf%E2%80%93idf\n",
    "- https://en.wikipedia.org/wiki/Word2vec\n",
    "- https://en.wikipedia.org/wiki/Stop_word\n",
    "- https://en.wikipedia.org/wiki/Self-supervised_learning\n",
    "\n",
    "Global Vectors for Word Representation (GloVe): \n",
    "- https://nlp.stanford.edu/projects/glove/\n",
    "- https://www.geeksforgeeks.org/pre-trained-word-embedding-using-glove-in-nlp-models/\n",
    "\n",
    "Readings on turning text into vectors:\n",
    "- https://towardsdatascience.com/how-to-turn-text-into-features-478b57632e99\n",
    "\n",
    "Tensorflow docs:\n",
    "- https://www.tensorflow.org/text/tutorials/word2vec\n",
    "- https://www.tensorflow.org/text/tutorials/text_classification_rnn\n",
    "- https://www.tensorflow.org/text/guide/word_embeddings\n",
    "- https://www.tensorflow.org/guide/keras/working_with_rnns\n",
    "\n",
    "Word2Vec and word embeddings:\n",
    "- https://medium.com/@dilip.voleti/classification-using-word2vec-b1d79d375381\n",
    "\n",
    "Videos:\n",
    "- https://www.youtube.com/watch?v=TI4HRR3Hd9A\n",
    "- https://www.youtube.com/watch?v=0XdPIqi0qpg\n"
   ],
   "id": "b31d88d13d8894fe"
  }
 ],
 "metadata": {
  "kernelspec": {
   "display_name": "Python 3",
   "language": "python",
   "name": "python3"
  },
  "language_info": {
   "codemirror_mode": {
    "name": "ipython",
    "version": 2
   },
   "file_extension": ".py",
   "mimetype": "text/x-python",
   "name": "python",
   "nbconvert_exporter": "python",
   "pygments_lexer": "ipython2",
   "version": "2.7.6"
  }
 },
 "nbformat": 4,
 "nbformat_minor": 5
}
